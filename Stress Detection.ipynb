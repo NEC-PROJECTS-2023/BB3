{
 "cells": [
  {
   "cell_type": "code",
   "execution_count": 1,
   "id": "709566a0",
   "metadata": {},
   "outputs": [
    {
     "data": {
      "text/html": [
       "<div>\n",
       "<style scoped>\n",
       "    .dataframe tbody tr th:only-of-type {\n",
       "        vertical-align: middle;\n",
       "    }\n",
       "\n",
       "    .dataframe tbody tr th {\n",
       "        vertical-align: top;\n",
       "    }\n",
       "\n",
       "    .dataframe thead th {\n",
       "        text-align: right;\n",
       "    }\n",
       "</style>\n",
       "<table border=\"1\" class=\"dataframe\">\n",
       "  <thead>\n",
       "    <tr style=\"text-align: right;\">\n",
       "      <th></th>\n",
       "      <th>subreddit</th>\n",
       "      <th>post_id</th>\n",
       "      <th>sentence_range</th>\n",
       "      <th>text</th>\n",
       "      <th>id</th>\n",
       "      <th>label</th>\n",
       "      <th>confidence</th>\n",
       "      <th>social_timestamp</th>\n",
       "      <th>social_karma</th>\n",
       "      <th>syntax_ari</th>\n",
       "      <th>...</th>\n",
       "      <th>lex_dal_min_pleasantness</th>\n",
       "      <th>lex_dal_min_activation</th>\n",
       "      <th>lex_dal_min_imagery</th>\n",
       "      <th>lex_dal_avg_activation</th>\n",
       "      <th>lex_dal_avg_imagery</th>\n",
       "      <th>lex_dal_avg_pleasantness</th>\n",
       "      <th>social_upvote_ratio</th>\n",
       "      <th>social_num_comments</th>\n",
       "      <th>syntax_fk_grade</th>\n",
       "      <th>sentiment</th>\n",
       "    </tr>\n",
       "  </thead>\n",
       "  <tbody>\n",
       "    <tr>\n",
       "      <th>0</th>\n",
       "      <td>ptsd</td>\n",
       "      <td>8601tu</td>\n",
       "      <td>(15, 20)</td>\n",
       "      <td>He said he had not felt that way before, sugge...</td>\n",
       "      <td>33181</td>\n",
       "      <td>1</td>\n",
       "      <td>0.8</td>\n",
       "      <td>1521614353</td>\n",
       "      <td>5</td>\n",
       "      <td>1.806818</td>\n",
       "      <td>...</td>\n",
       "      <td>1.000</td>\n",
       "      <td>1.1250</td>\n",
       "      <td>1.0</td>\n",
       "      <td>1.77000</td>\n",
       "      <td>1.52211</td>\n",
       "      <td>1.89556</td>\n",
       "      <td>0.86</td>\n",
       "      <td>1</td>\n",
       "      <td>3.253573</td>\n",
       "      <td>-0.002742</td>\n",
       "    </tr>\n",
       "    <tr>\n",
       "      <th>1</th>\n",
       "      <td>assistance</td>\n",
       "      <td>8lbrx9</td>\n",
       "      <td>(0, 5)</td>\n",
       "      <td>Hey there r/assistance, Not sure if this is th...</td>\n",
       "      <td>2606</td>\n",
       "      <td>0</td>\n",
       "      <td>1.0</td>\n",
       "      <td>1527009817</td>\n",
       "      <td>4</td>\n",
       "      <td>9.429737</td>\n",
       "      <td>...</td>\n",
       "      <td>1.125</td>\n",
       "      <td>1.0000</td>\n",
       "      <td>1.0</td>\n",
       "      <td>1.69586</td>\n",
       "      <td>1.62045</td>\n",
       "      <td>1.88919</td>\n",
       "      <td>0.65</td>\n",
       "      <td>2</td>\n",
       "      <td>8.828316</td>\n",
       "      <td>0.292857</td>\n",
       "    </tr>\n",
       "    <tr>\n",
       "      <th>2</th>\n",
       "      <td>ptsd</td>\n",
       "      <td>9ch1zh</td>\n",
       "      <td>(15, 20)</td>\n",
       "      <td>My mom then hit me with the newspaper and it s...</td>\n",
       "      <td>38816</td>\n",
       "      <td>1</td>\n",
       "      <td>0.8</td>\n",
       "      <td>1535935605</td>\n",
       "      <td>2</td>\n",
       "      <td>7.769821</td>\n",
       "      <td>...</td>\n",
       "      <td>1.000</td>\n",
       "      <td>1.1429</td>\n",
       "      <td>1.0</td>\n",
       "      <td>1.83088</td>\n",
       "      <td>1.58108</td>\n",
       "      <td>1.85828</td>\n",
       "      <td>0.67</td>\n",
       "      <td>0</td>\n",
       "      <td>7.841667</td>\n",
       "      <td>0.011894</td>\n",
       "    </tr>\n",
       "    <tr>\n",
       "      <th>3</th>\n",
       "      <td>relationships</td>\n",
       "      <td>7rorpp</td>\n",
       "      <td>[5, 10]</td>\n",
       "      <td>until i met my new boyfriend, he is amazing, h...</td>\n",
       "      <td>239</td>\n",
       "      <td>1</td>\n",
       "      <td>0.6</td>\n",
       "      <td>1516429555</td>\n",
       "      <td>0</td>\n",
       "      <td>2.667798</td>\n",
       "      <td>...</td>\n",
       "      <td>1.000</td>\n",
       "      <td>1.1250</td>\n",
       "      <td>1.0</td>\n",
       "      <td>1.75356</td>\n",
       "      <td>1.52114</td>\n",
       "      <td>1.98848</td>\n",
       "      <td>0.50</td>\n",
       "      <td>5</td>\n",
       "      <td>4.104027</td>\n",
       "      <td>0.141671</td>\n",
       "    </tr>\n",
       "    <tr>\n",
       "      <th>4</th>\n",
       "      <td>survivorsofabuse</td>\n",
       "      <td>9p2gbc</td>\n",
       "      <td>[0, 5]</td>\n",
       "      <td>October is Domestic Violence Awareness Month a...</td>\n",
       "      <td>1421</td>\n",
       "      <td>1</td>\n",
       "      <td>0.8</td>\n",
       "      <td>1539809005</td>\n",
       "      <td>24</td>\n",
       "      <td>7.554238</td>\n",
       "      <td>...</td>\n",
       "      <td>1.000</td>\n",
       "      <td>1.1250</td>\n",
       "      <td>1.0</td>\n",
       "      <td>1.77644</td>\n",
       "      <td>1.64872</td>\n",
       "      <td>1.81456</td>\n",
       "      <td>1.00</td>\n",
       "      <td>1</td>\n",
       "      <td>7.910952</td>\n",
       "      <td>-0.204167</td>\n",
       "    </tr>\n",
       "    <tr>\n",
       "      <th>5</th>\n",
       "      <td>relationships</td>\n",
       "      <td>7tx7et</td>\n",
       "      <td>(30, 35)</td>\n",
       "      <td>I think he doesn't want to put in the effort f...</td>\n",
       "      <td>17554</td>\n",
       "      <td>1</td>\n",
       "      <td>1.0</td>\n",
       "      <td>1517274027</td>\n",
       "      <td>2</td>\n",
       "      <td>3.531124</td>\n",
       "      <td>...</td>\n",
       "      <td>1.000</td>\n",
       "      <td>1.1818</td>\n",
       "      <td>1.0</td>\n",
       "      <td>1.70415</td>\n",
       "      <td>1.44396</td>\n",
       "      <td>1.82046</td>\n",
       "      <td>0.75</td>\n",
       "      <td>5</td>\n",
       "      <td>4.338429</td>\n",
       "      <td>-0.550000</td>\n",
       "    </tr>\n",
       "    <tr>\n",
       "      <th>6</th>\n",
       "      <td>domesticviolence</td>\n",
       "      <td>7iphly</td>\n",
       "      <td>[25, 30]</td>\n",
       "      <td>It was a big company so luckily I didn't have ...</td>\n",
       "      <td>165</td>\n",
       "      <td>0</td>\n",
       "      <td>0.8</td>\n",
       "      <td>1512854409</td>\n",
       "      <td>6</td>\n",
       "      <td>8.331463</td>\n",
       "      <td>...</td>\n",
       "      <td>1.000</td>\n",
       "      <td>1.1250</td>\n",
       "      <td>1.0</td>\n",
       "      <td>1.66985</td>\n",
       "      <td>1.57757</td>\n",
       "      <td>1.89926</td>\n",
       "      <td>0.88</td>\n",
       "      <td>29</td>\n",
       "      <td>8.394244</td>\n",
       "      <td>0.277381</td>\n",
       "    </tr>\n",
       "    <tr>\n",
       "      <th>7</th>\n",
       "      <td>anxiety</td>\n",
       "      <td>5m3k80</td>\n",
       "      <td>(5, 10)</td>\n",
       "      <td>It cleared up and I was okay but. On Monday ...</td>\n",
       "      <td>33053</td>\n",
       "      <td>1</td>\n",
       "      <td>0.8</td>\n",
       "      <td>1483582174</td>\n",
       "      <td>1</td>\n",
       "      <td>0.403679</td>\n",
       "      <td>...</td>\n",
       "      <td>1.000</td>\n",
       "      <td>1.1429</td>\n",
       "      <td>1.0</td>\n",
       "      <td>1.69549</td>\n",
       "      <td>1.44860</td>\n",
       "      <td>1.88963</td>\n",
       "      <td>1.00</td>\n",
       "      <td>0</td>\n",
       "      <td>1.028654</td>\n",
       "      <td>-0.079630</td>\n",
       "    </tr>\n",
       "    <tr>\n",
       "      <th>8</th>\n",
       "      <td>relationships</td>\n",
       "      <td>7nhy1v</td>\n",
       "      <td>(50, 55)</td>\n",
       "      <td>I actually give an assistant half my emergency...</td>\n",
       "      <td>7581</td>\n",
       "      <td>1</td>\n",
       "      <td>0.6</td>\n",
       "      <td>1514843984</td>\n",
       "      <td>134</td>\n",
       "      <td>5.381111</td>\n",
       "      <td>...</td>\n",
       "      <td>1.000</td>\n",
       "      <td>1.0000</td>\n",
       "      <td>1.0</td>\n",
       "      <td>1.73571</td>\n",
       "      <td>1.71471</td>\n",
       "      <td>1.93607</td>\n",
       "      <td>0.94</td>\n",
       "      <td>43</td>\n",
       "      <td>5.991049</td>\n",
       "      <td>-0.272917</td>\n",
       "    </tr>\n",
       "    <tr>\n",
       "      <th>9</th>\n",
       "      <td>assistance</td>\n",
       "      <td>61eiq6</td>\n",
       "      <td>[15, 20]</td>\n",
       "      <td>I just feel like the street life has fucked my...</td>\n",
       "      <td>1517</td>\n",
       "      <td>1</td>\n",
       "      <td>1.0</td>\n",
       "      <td>1490428087</td>\n",
       "      <td>20</td>\n",
       "      <td>1.562351</td>\n",
       "      <td>...</td>\n",
       "      <td>1.000</td>\n",
       "      <td>1.1250</td>\n",
       "      <td>1.0</td>\n",
       "      <td>1.74956</td>\n",
       "      <td>1.67353</td>\n",
       "      <td>1.89320</td>\n",
       "      <td>0.80</td>\n",
       "      <td>6</td>\n",
       "      <td>2.851935</td>\n",
       "      <td>-0.117262</td>\n",
       "    </tr>\n",
       "  </tbody>\n",
       "</table>\n",
       "<p>10 rows × 116 columns</p>\n",
       "</div>"
      ],
      "text/plain": [
       "          subreddit post_id sentence_range  \\\n",
       "0              ptsd  8601tu       (15, 20)   \n",
       "1        assistance  8lbrx9         (0, 5)   \n",
       "2              ptsd  9ch1zh       (15, 20)   \n",
       "3     relationships  7rorpp        [5, 10]   \n",
       "4  survivorsofabuse  9p2gbc         [0, 5]   \n",
       "5     relationships  7tx7et       (30, 35)   \n",
       "6  domesticviolence  7iphly       [25, 30]   \n",
       "7           anxiety  5m3k80        (5, 10)   \n",
       "8     relationships  7nhy1v       (50, 55)   \n",
       "9        assistance  61eiq6       [15, 20]   \n",
       "\n",
       "                                                text     id  label  \\\n",
       "0  He said he had not felt that way before, sugge...  33181      1   \n",
       "1  Hey there r/assistance, Not sure if this is th...   2606      0   \n",
       "2  My mom then hit me with the newspaper and it s...  38816      1   \n",
       "3  until i met my new boyfriend, he is amazing, h...    239      1   \n",
       "4  October is Domestic Violence Awareness Month a...   1421      1   \n",
       "5  I think he doesn't want to put in the effort f...  17554      1   \n",
       "6  It was a big company so luckily I didn't have ...    165      0   \n",
       "7    It cleared up and I was okay but. On Monday ...  33053      1   \n",
       "8  I actually give an assistant half my emergency...   7581      1   \n",
       "9  I just feel like the street life has fucked my...   1517      1   \n",
       "\n",
       "   confidence  social_timestamp  social_karma  syntax_ari  ...  \\\n",
       "0         0.8        1521614353             5    1.806818  ...   \n",
       "1         1.0        1527009817             4    9.429737  ...   \n",
       "2         0.8        1535935605             2    7.769821  ...   \n",
       "3         0.6        1516429555             0    2.667798  ...   \n",
       "4         0.8        1539809005            24    7.554238  ...   \n",
       "5         1.0        1517274027             2    3.531124  ...   \n",
       "6         0.8        1512854409             6    8.331463  ...   \n",
       "7         0.8        1483582174             1    0.403679  ...   \n",
       "8         0.6        1514843984           134    5.381111  ...   \n",
       "9         1.0        1490428087            20    1.562351  ...   \n",
       "\n",
       "   lex_dal_min_pleasantness  lex_dal_min_activation  lex_dal_min_imagery  \\\n",
       "0                     1.000                  1.1250                  1.0   \n",
       "1                     1.125                  1.0000                  1.0   \n",
       "2                     1.000                  1.1429                  1.0   \n",
       "3                     1.000                  1.1250                  1.0   \n",
       "4                     1.000                  1.1250                  1.0   \n",
       "5                     1.000                  1.1818                  1.0   \n",
       "6                     1.000                  1.1250                  1.0   \n",
       "7                     1.000                  1.1429                  1.0   \n",
       "8                     1.000                  1.0000                  1.0   \n",
       "9                     1.000                  1.1250                  1.0   \n",
       "\n",
       "   lex_dal_avg_activation  lex_dal_avg_imagery  lex_dal_avg_pleasantness  \\\n",
       "0                 1.77000              1.52211                   1.89556   \n",
       "1                 1.69586              1.62045                   1.88919   \n",
       "2                 1.83088              1.58108                   1.85828   \n",
       "3                 1.75356              1.52114                   1.98848   \n",
       "4                 1.77644              1.64872                   1.81456   \n",
       "5                 1.70415              1.44396                   1.82046   \n",
       "6                 1.66985              1.57757                   1.89926   \n",
       "7                 1.69549              1.44860                   1.88963   \n",
       "8                 1.73571              1.71471                   1.93607   \n",
       "9                 1.74956              1.67353                   1.89320   \n",
       "\n",
       "   social_upvote_ratio  social_num_comments  syntax_fk_grade  sentiment  \n",
       "0                 0.86                    1         3.253573  -0.002742  \n",
       "1                 0.65                    2         8.828316   0.292857  \n",
       "2                 0.67                    0         7.841667   0.011894  \n",
       "3                 0.50                    5         4.104027   0.141671  \n",
       "4                 1.00                    1         7.910952  -0.204167  \n",
       "5                 0.75                    5         4.338429  -0.550000  \n",
       "6                 0.88                   29         8.394244   0.277381  \n",
       "7                 1.00                    0         1.028654  -0.079630  \n",
       "8                 0.94                   43         5.991049  -0.272917  \n",
       "9                 0.80                    6         2.851935  -0.117262  \n",
       "\n",
       "[10 rows x 116 columns]"
      ]
     },
     "execution_count": 1,
     "metadata": {},
     "output_type": "execute_result"
    }
   ],
   "source": [
    "import pandas as pd\n",
    "import numpy as np\n",
    "data = pd.read_csv(\"stress.csv\")\n",
    "data.head(10)"
   ]
  },
  {
   "cell_type": "code",
   "execution_count": 2,
   "id": "c6560626",
   "metadata": {},
   "outputs": [
    {
     "data": {
      "text/plain": [
       "(2838, 116)"
      ]
     },
     "execution_count": 2,
     "metadata": {},
     "output_type": "execute_result"
    }
   ],
   "source": [
    "data.shape"
   ]
  },
  {
   "cell_type": "code",
   "execution_count": 3,
   "id": "604d4a5c",
   "metadata": {},
   "outputs": [
    {
     "data": {
      "text/plain": [
       "Index(['subreddit', 'post_id', 'sentence_range', 'text', 'id', 'label',\n",
       "       'confidence', 'social_timestamp', 'social_karma', 'syntax_ari',\n",
       "       ...\n",
       "       'lex_dal_min_pleasantness', 'lex_dal_min_activation',\n",
       "       'lex_dal_min_imagery', 'lex_dal_avg_activation', 'lex_dal_avg_imagery',\n",
       "       'lex_dal_avg_pleasantness', 'social_upvote_ratio',\n",
       "       'social_num_comments', 'syntax_fk_grade', 'sentiment'],\n",
       "      dtype='object', length=116)"
      ]
     },
     "execution_count": 3,
     "metadata": {},
     "output_type": "execute_result"
    }
   ],
   "source": [
    "data.columns"
   ]
  },
  {
   "cell_type": "code",
   "execution_count": 4,
   "id": "208b5ff7",
   "metadata": {},
   "outputs": [
    {
     "data": {
      "text/html": [
       "<div>\n",
       "<style scoped>\n",
       "    .dataframe tbody tr th:only-of-type {\n",
       "        vertical-align: middle;\n",
       "    }\n",
       "\n",
       "    .dataframe tbody tr th {\n",
       "        vertical-align: top;\n",
       "    }\n",
       "\n",
       "    .dataframe thead th {\n",
       "        text-align: right;\n",
       "    }\n",
       "</style>\n",
       "<table border=\"1\" class=\"dataframe\">\n",
       "  <thead>\n",
       "    <tr style=\"text-align: right;\">\n",
       "      <th></th>\n",
       "      <th>id</th>\n",
       "      <th>label</th>\n",
       "      <th>confidence</th>\n",
       "      <th>social_timestamp</th>\n",
       "      <th>social_karma</th>\n",
       "      <th>syntax_ari</th>\n",
       "      <th>lex_liwc_WC</th>\n",
       "      <th>lex_liwc_Analytic</th>\n",
       "      <th>lex_liwc_Clout</th>\n",
       "      <th>lex_liwc_Authentic</th>\n",
       "      <th>...</th>\n",
       "      <th>lex_dal_min_pleasantness</th>\n",
       "      <th>lex_dal_min_activation</th>\n",
       "      <th>lex_dal_min_imagery</th>\n",
       "      <th>lex_dal_avg_activation</th>\n",
       "      <th>lex_dal_avg_imagery</th>\n",
       "      <th>lex_dal_avg_pleasantness</th>\n",
       "      <th>social_upvote_ratio</th>\n",
       "      <th>social_num_comments</th>\n",
       "      <th>syntax_fk_grade</th>\n",
       "      <th>sentiment</th>\n",
       "    </tr>\n",
       "  </thead>\n",
       "  <tbody>\n",
       "    <tr>\n",
       "      <th>count</th>\n",
       "      <td>2838.000000</td>\n",
       "      <td>2838.000000</td>\n",
       "      <td>2838.000000</td>\n",
       "      <td>2.838000e+03</td>\n",
       "      <td>2838.000000</td>\n",
       "      <td>2838.000000</td>\n",
       "      <td>2838.000000</td>\n",
       "      <td>2838.000000</td>\n",
       "      <td>2838.000000</td>\n",
       "      <td>2838.000000</td>\n",
       "      <td>...</td>\n",
       "      <td>2838.000000</td>\n",
       "      <td>2838.000000</td>\n",
       "      <td>2838.000000</td>\n",
       "      <td>2838.000000</td>\n",
       "      <td>2838.000000</td>\n",
       "      <td>2838.000000</td>\n",
       "      <td>2838.000000</td>\n",
       "      <td>2838.000000</td>\n",
       "      <td>2838.000000</td>\n",
       "      <td>2838.000000</td>\n",
       "    </tr>\n",
       "    <tr>\n",
       "      <th>mean</th>\n",
       "      <td>13751.999295</td>\n",
       "      <td>0.524313</td>\n",
       "      <td>0.808972</td>\n",
       "      <td>1.518107e+09</td>\n",
       "      <td>18.262156</td>\n",
       "      <td>4.684272</td>\n",
       "      <td>85.996124</td>\n",
       "      <td>35.240941</td>\n",
       "      <td>40.948231</td>\n",
       "      <td>67.044249</td>\n",
       "      <td>...</td>\n",
       "      <td>1.088001</td>\n",
       "      <td>1.120099</td>\n",
       "      <td>1.000211</td>\n",
       "      <td>1.722759</td>\n",
       "      <td>1.536400</td>\n",
       "      <td>1.879385</td>\n",
       "      <td>0.843517</td>\n",
       "      <td>9.948555</td>\n",
       "      <td>5.448836</td>\n",
       "      <td>0.040740</td>\n",
       "    </tr>\n",
       "    <tr>\n",
       "      <th>std</th>\n",
       "      <td>17340.161897</td>\n",
       "      <td>0.499497</td>\n",
       "      <td>0.177038</td>\n",
       "      <td>1.552209e+07</td>\n",
       "      <td>79.419166</td>\n",
       "      <td>3.316435</td>\n",
       "      <td>32.334887</td>\n",
       "      <td>26.486189</td>\n",
       "      <td>31.587117</td>\n",
       "      <td>32.880644</td>\n",
       "      <td>...</td>\n",
       "      <td>0.117159</td>\n",
       "      <td>0.085227</td>\n",
       "      <td>0.006500</td>\n",
       "      <td>0.047835</td>\n",
       "      <td>0.102971</td>\n",
       "      <td>0.058932</td>\n",
       "      <td>0.174794</td>\n",
       "      <td>21.798032</td>\n",
       "      <td>2.535829</td>\n",
       "      <td>0.195490</td>\n",
       "    </tr>\n",
       "    <tr>\n",
       "      <th>min</th>\n",
       "      <td>4.000000</td>\n",
       "      <td>0.000000</td>\n",
       "      <td>0.428571</td>\n",
       "      <td>1.483274e+09</td>\n",
       "      <td>0.000000</td>\n",
       "      <td>-6.620000</td>\n",
       "      <td>5.000000</td>\n",
       "      <td>1.000000</td>\n",
       "      <td>1.000000</td>\n",
       "      <td>1.000000</td>\n",
       "      <td>...</td>\n",
       "      <td>1.000000</td>\n",
       "      <td>1.000000</td>\n",
       "      <td>1.000000</td>\n",
       "      <td>1.485400</td>\n",
       "      <td>1.200000</td>\n",
       "      <td>1.561150</td>\n",
       "      <td>0.140000</td>\n",
       "      <td>0.000000</td>\n",
       "      <td>-1.918000</td>\n",
       "      <td>-1.000000</td>\n",
       "    </tr>\n",
       "    <tr>\n",
       "      <th>25%</th>\n",
       "      <td>926.250000</td>\n",
       "      <td>0.000000</td>\n",
       "      <td>0.600000</td>\n",
       "      <td>1.509698e+09</td>\n",
       "      <td>2.000000</td>\n",
       "      <td>2.464243</td>\n",
       "      <td>65.000000</td>\n",
       "      <td>12.410000</td>\n",
       "      <td>12.135000</td>\n",
       "      <td>41.070000</td>\n",
       "      <td>...</td>\n",
       "      <td>1.000000</td>\n",
       "      <td>1.000000</td>\n",
       "      <td>1.000000</td>\n",
       "      <td>1.691430</td>\n",
       "      <td>1.469745</td>\n",
       "      <td>1.841782</td>\n",
       "      <td>0.750000</td>\n",
       "      <td>2.000000</td>\n",
       "      <td>3.729973</td>\n",
       "      <td>-0.072222</td>\n",
       "    </tr>\n",
       "    <tr>\n",
       "      <th>50%</th>\n",
       "      <td>1891.500000</td>\n",
       "      <td>1.000000</td>\n",
       "      <td>0.800000</td>\n",
       "      <td>1.517066e+09</td>\n",
       "      <td>5.000000</td>\n",
       "      <td>4.321886</td>\n",
       "      <td>81.000000</td>\n",
       "      <td>29.420000</td>\n",
       "      <td>33.520000</td>\n",
       "      <td>80.710000</td>\n",
       "      <td>...</td>\n",
       "      <td>1.000000</td>\n",
       "      <td>1.142900</td>\n",
       "      <td>1.000000</td>\n",
       "      <td>1.721430</td>\n",
       "      <td>1.530295</td>\n",
       "      <td>1.878250</td>\n",
       "      <td>0.890000</td>\n",
       "      <td>5.000000</td>\n",
       "      <td>5.210000</td>\n",
       "      <td>0.044821</td>\n",
       "    </tr>\n",
       "    <tr>\n",
       "      <th>75%</th>\n",
       "      <td>25473.750000</td>\n",
       "      <td>1.000000</td>\n",
       "      <td>1.000000</td>\n",
       "      <td>1.530898e+09</td>\n",
       "      <td>10.000000</td>\n",
       "      <td>6.505657</td>\n",
       "      <td>101.000000</td>\n",
       "      <td>55.057500</td>\n",
       "      <td>69.320000</td>\n",
       "      <td>96.180000</td>\n",
       "      <td>...</td>\n",
       "      <td>1.142900</td>\n",
       "      <td>1.142900</td>\n",
       "      <td>1.000000</td>\n",
       "      <td>1.751760</td>\n",
       "      <td>1.596030</td>\n",
       "      <td>1.916243</td>\n",
       "      <td>1.000000</td>\n",
       "      <td>10.000000</td>\n",
       "      <td>6.855217</td>\n",
       "      <td>0.166667</td>\n",
       "    </tr>\n",
       "    <tr>\n",
       "      <th>max</th>\n",
       "      <td>55757.000000</td>\n",
       "      <td>1.000000</td>\n",
       "      <td>1.000000</td>\n",
       "      <td>1.542592e+09</td>\n",
       "      <td>1435.000000</td>\n",
       "      <td>24.074231</td>\n",
       "      <td>310.000000</td>\n",
       "      <td>99.000000</td>\n",
       "      <td>99.000000</td>\n",
       "      <td>99.000000</td>\n",
       "      <td>...</td>\n",
       "      <td>1.900000</td>\n",
       "      <td>1.500000</td>\n",
       "      <td>1.200000</td>\n",
       "      <td>2.007400</td>\n",
       "      <td>2.066670</td>\n",
       "      <td>2.158490</td>\n",
       "      <td>1.000000</td>\n",
       "      <td>416.000000</td>\n",
       "      <td>21.198919</td>\n",
       "      <td>1.000000</td>\n",
       "    </tr>\n",
       "  </tbody>\n",
       "</table>\n",
       "<p>8 rows × 112 columns</p>\n",
       "</div>"
      ],
      "text/plain": [
       "                 id        label   confidence  social_timestamp  social_karma  \\\n",
       "count   2838.000000  2838.000000  2838.000000      2.838000e+03   2838.000000   \n",
       "mean   13751.999295     0.524313     0.808972      1.518107e+09     18.262156   \n",
       "std    17340.161897     0.499497     0.177038      1.552209e+07     79.419166   \n",
       "min        4.000000     0.000000     0.428571      1.483274e+09      0.000000   \n",
       "25%      926.250000     0.000000     0.600000      1.509698e+09      2.000000   \n",
       "50%     1891.500000     1.000000     0.800000      1.517066e+09      5.000000   \n",
       "75%    25473.750000     1.000000     1.000000      1.530898e+09     10.000000   \n",
       "max    55757.000000     1.000000     1.000000      1.542592e+09   1435.000000   \n",
       "\n",
       "        syntax_ari  lex_liwc_WC  lex_liwc_Analytic  lex_liwc_Clout  \\\n",
       "count  2838.000000  2838.000000        2838.000000     2838.000000   \n",
       "mean      4.684272    85.996124          35.240941       40.948231   \n",
       "std       3.316435    32.334887          26.486189       31.587117   \n",
       "min      -6.620000     5.000000           1.000000        1.000000   \n",
       "25%       2.464243    65.000000          12.410000       12.135000   \n",
       "50%       4.321886    81.000000          29.420000       33.520000   \n",
       "75%       6.505657   101.000000          55.057500       69.320000   \n",
       "max      24.074231   310.000000          99.000000       99.000000   \n",
       "\n",
       "       lex_liwc_Authentic  ...  lex_dal_min_pleasantness  \\\n",
       "count         2838.000000  ...               2838.000000   \n",
       "mean            67.044249  ...                  1.088001   \n",
       "std             32.880644  ...                  0.117159   \n",
       "min              1.000000  ...                  1.000000   \n",
       "25%             41.070000  ...                  1.000000   \n",
       "50%             80.710000  ...                  1.000000   \n",
       "75%             96.180000  ...                  1.142900   \n",
       "max             99.000000  ...                  1.900000   \n",
       "\n",
       "       lex_dal_min_activation  lex_dal_min_imagery  lex_dal_avg_activation  \\\n",
       "count             2838.000000          2838.000000             2838.000000   \n",
       "mean                 1.120099             1.000211                1.722759   \n",
       "std                  0.085227             0.006500                0.047835   \n",
       "min                  1.000000             1.000000                1.485400   \n",
       "25%                  1.000000             1.000000                1.691430   \n",
       "50%                  1.142900             1.000000                1.721430   \n",
       "75%                  1.142900             1.000000                1.751760   \n",
       "max                  1.500000             1.200000                2.007400   \n",
       "\n",
       "       lex_dal_avg_imagery  lex_dal_avg_pleasantness  social_upvote_ratio  \\\n",
       "count          2838.000000               2838.000000          2838.000000   \n",
       "mean              1.536400                  1.879385             0.843517   \n",
       "std               0.102971                  0.058932             0.174794   \n",
       "min               1.200000                  1.561150             0.140000   \n",
       "25%               1.469745                  1.841782             0.750000   \n",
       "50%               1.530295                  1.878250             0.890000   \n",
       "75%               1.596030                  1.916243             1.000000   \n",
       "max               2.066670                  2.158490             1.000000   \n",
       "\n",
       "       social_num_comments  syntax_fk_grade    sentiment  \n",
       "count          2838.000000      2838.000000  2838.000000  \n",
       "mean              9.948555         5.448836     0.040740  \n",
       "std              21.798032         2.535829     0.195490  \n",
       "min               0.000000        -1.918000    -1.000000  \n",
       "25%               2.000000         3.729973    -0.072222  \n",
       "50%               5.000000         5.210000     0.044821  \n",
       "75%              10.000000         6.855217     0.166667  \n",
       "max             416.000000        21.198919     1.000000  \n",
       "\n",
       "[8 rows x 112 columns]"
      ]
     },
     "execution_count": 4,
     "metadata": {},
     "output_type": "execute_result"
    }
   ],
   "source": [
    "data.describe()"
   ]
  },
  {
   "cell_type": "code",
   "execution_count": 5,
   "id": "ad41d9c5",
   "metadata": {},
   "outputs": [
    {
     "name": "stdout",
     "output_type": "stream",
     "text": [
      "<class 'pandas.core.frame.DataFrame'>\n",
      "RangeIndex: 2838 entries, 0 to 2837\n",
      "Columns: 116 entries, subreddit to sentiment\n",
      "dtypes: float64(106), int64(6), object(4)\n",
      "memory usage: 2.5+ MB\n"
     ]
    }
   ],
   "source": [
    "data.info()"
   ]
  },
  {
   "cell_type": "code",
   "execution_count": 6,
   "id": "6329851b",
   "metadata": {},
   "outputs": [],
   "source": [
    "data1 = data.copy()"
   ]
  },
  {
   "cell_type": "code",
   "execution_count": 7,
   "id": "e8f0a191",
   "metadata": {},
   "outputs": [
    {
     "data": {
      "text/plain": [
       "subreddit                   0\n",
       "post_id                     0\n",
       "sentence_range              0\n",
       "text                        0\n",
       "id                          0\n",
       "                           ..\n",
       "lex_dal_avg_pleasantness    0\n",
       "social_upvote_ratio         0\n",
       "social_num_comments         0\n",
       "syntax_fk_grade             0\n",
       "sentiment                   0\n",
       "Length: 116, dtype: int64"
      ]
     },
     "execution_count": 7,
     "metadata": {},
     "output_type": "execute_result"
    }
   ],
   "source": [
    "data.isnull().sum()"
   ]
  },
  {
   "cell_type": "code",
   "execution_count": 8,
   "id": "a2aba9af",
   "metadata": {},
   "outputs": [
    {
     "data": {
      "text/html": [
       "<div>\n",
       "<style scoped>\n",
       "    .dataframe tbody tr th:only-of-type {\n",
       "        vertical-align: middle;\n",
       "    }\n",
       "\n",
       "    .dataframe tbody tr th {\n",
       "        vertical-align: top;\n",
       "    }\n",
       "\n",
       "    .dataframe thead th {\n",
       "        text-align: right;\n",
       "    }\n",
       "</style>\n",
       "<table border=\"1\" class=\"dataframe\">\n",
       "  <thead>\n",
       "    <tr style=\"text-align: right;\">\n",
       "      <th></th>\n",
       "      <th>id</th>\n",
       "      <th>label</th>\n",
       "      <th>confidence</th>\n",
       "      <th>social_timestamp</th>\n",
       "      <th>social_karma</th>\n",
       "      <th>syntax_ari</th>\n",
       "      <th>lex_liwc_WC</th>\n",
       "      <th>lex_liwc_Analytic</th>\n",
       "      <th>lex_liwc_Clout</th>\n",
       "      <th>lex_liwc_Authentic</th>\n",
       "      <th>...</th>\n",
       "      <th>lex_dal_min_pleasantness</th>\n",
       "      <th>lex_dal_min_activation</th>\n",
       "      <th>lex_dal_min_imagery</th>\n",
       "      <th>lex_dal_avg_activation</th>\n",
       "      <th>lex_dal_avg_imagery</th>\n",
       "      <th>lex_dal_avg_pleasantness</th>\n",
       "      <th>social_upvote_ratio</th>\n",
       "      <th>social_num_comments</th>\n",
       "      <th>syntax_fk_grade</th>\n",
       "      <th>sentiment</th>\n",
       "    </tr>\n",
       "  </thead>\n",
       "  <tbody>\n",
       "    <tr>\n",
       "      <th>id</th>\n",
       "      <td>1.000000</td>\n",
       "      <td>-0.057570</td>\n",
       "      <td>0.198152</td>\n",
       "      <td>-0.004089</td>\n",
       "      <td>0.001155</td>\n",
       "      <td>0.103680</td>\n",
       "      <td>0.057690</td>\n",
       "      <td>0.013110</td>\n",
       "      <td>0.055287</td>\n",
       "      <td>-0.043653</td>\n",
       "      <td>...</td>\n",
       "      <td>0.027462</td>\n",
       "      <td>-0.042197</td>\n",
       "      <td>-0.023827</td>\n",
       "      <td>-0.044492</td>\n",
       "      <td>-0.058451</td>\n",
       "      <td>0.018026</td>\n",
       "      <td>-0.031343</td>\n",
       "      <td>-0.007265</td>\n",
       "      <td>0.100821</td>\n",
       "      <td>0.034676</td>\n",
       "    </tr>\n",
       "    <tr>\n",
       "      <th>label</th>\n",
       "      <td>-0.057570</td>\n",
       "      <td>1.000000</td>\n",
       "      <td>0.023831</td>\n",
       "      <td>-0.006504</td>\n",
       "      <td>-0.053421</td>\n",
       "      <td>-0.092786</td>\n",
       "      <td>0.100473</td>\n",
       "      <td>-0.247933</td>\n",
       "      <td>-0.403804</td>\n",
       "      <td>0.275282</td>\n",
       "      <td>...</td>\n",
       "      <td>-0.297439</td>\n",
       "      <td>-0.032659</td>\n",
       "      <td>-0.012440</td>\n",
       "      <td>0.144963</td>\n",
       "      <td>-0.049756</td>\n",
       "      <td>-0.165470</td>\n",
       "      <td>0.097125</td>\n",
       "      <td>-0.038507</td>\n",
       "      <td>-0.058567</td>\n",
       "      <td>-0.305157</td>\n",
       "    </tr>\n",
       "    <tr>\n",
       "      <th>confidence</th>\n",
       "      <td>0.198152</td>\n",
       "      <td>0.023831</td>\n",
       "      <td>1.000000</td>\n",
       "      <td>0.029101</td>\n",
       "      <td>-0.035109</td>\n",
       "      <td>0.034465</td>\n",
       "      <td>-0.005430</td>\n",
       "      <td>0.040150</td>\n",
       "      <td>-0.019701</td>\n",
       "      <td>0.030784</td>\n",
       "      <td>...</td>\n",
       "      <td>0.054247</td>\n",
       "      <td>-0.000609</td>\n",
       "      <td>-0.043655</td>\n",
       "      <td>0.019157</td>\n",
       "      <td>-0.064465</td>\n",
       "      <td>0.066168</td>\n",
       "      <td>-0.006815</td>\n",
       "      <td>-0.056471</td>\n",
       "      <td>0.040245</td>\n",
       "      <td>0.018656</td>\n",
       "    </tr>\n",
       "    <tr>\n",
       "      <th>social_timestamp</th>\n",
       "      <td>-0.004089</td>\n",
       "      <td>-0.006504</td>\n",
       "      <td>0.029101</td>\n",
       "      <td>1.000000</td>\n",
       "      <td>-0.015673</td>\n",
       "      <td>0.001516</td>\n",
       "      <td>0.013800</td>\n",
       "      <td>0.001789</td>\n",
       "      <td>-0.013092</td>\n",
       "      <td>0.023516</td>\n",
       "      <td>...</td>\n",
       "      <td>-0.001197</td>\n",
       "      <td>-0.002790</td>\n",
       "      <td>-0.024561</td>\n",
       "      <td>-0.006740</td>\n",
       "      <td>0.007107</td>\n",
       "      <td>0.010445</td>\n",
       "      <td>0.009877</td>\n",
       "      <td>-0.024676</td>\n",
       "      <td>0.002347</td>\n",
       "      <td>0.027996</td>\n",
       "    </tr>\n",
       "    <tr>\n",
       "      <th>social_karma</th>\n",
       "      <td>0.001155</td>\n",
       "      <td>-0.053421</td>\n",
       "      <td>-0.035109</td>\n",
       "      <td>-0.015673</td>\n",
       "      <td>1.000000</td>\n",
       "      <td>-0.014104</td>\n",
       "      <td>0.008587</td>\n",
       "      <td>-0.032604</td>\n",
       "      <td>0.049560</td>\n",
       "      <td>-0.073504</td>\n",
       "      <td>...</td>\n",
       "      <td>-0.031136</td>\n",
       "      <td>-0.028579</td>\n",
       "      <td>-0.003248</td>\n",
       "      <td>-0.006415</td>\n",
       "      <td>-0.003452</td>\n",
       "      <td>0.007040</td>\n",
       "      <td>0.099256</td>\n",
       "      <td>0.794517</td>\n",
       "      <td>-0.020001</td>\n",
       "      <td>0.004918</td>\n",
       "    </tr>\n",
       "    <tr>\n",
       "      <th>...</th>\n",
       "      <td>...</td>\n",
       "      <td>...</td>\n",
       "      <td>...</td>\n",
       "      <td>...</td>\n",
       "      <td>...</td>\n",
       "      <td>...</td>\n",
       "      <td>...</td>\n",
       "      <td>...</td>\n",
       "      <td>...</td>\n",
       "      <td>...</td>\n",
       "      <td>...</td>\n",
       "      <td>...</td>\n",
       "      <td>...</td>\n",
       "      <td>...</td>\n",
       "      <td>...</td>\n",
       "      <td>...</td>\n",
       "      <td>...</td>\n",
       "      <td>...</td>\n",
       "      <td>...</td>\n",
       "      <td>...</td>\n",
       "      <td>...</td>\n",
       "    </tr>\n",
       "    <tr>\n",
       "      <th>lex_dal_avg_pleasantness</th>\n",
       "      <td>0.018026</td>\n",
       "      <td>-0.165470</td>\n",
       "      <td>0.066168</td>\n",
       "      <td>0.010445</td>\n",
       "      <td>0.007040</td>\n",
       "      <td>-0.105369</td>\n",
       "      <td>-0.064109</td>\n",
       "      <td>-0.070831</td>\n",
       "      <td>0.085443</td>\n",
       "      <td>-0.016854</td>\n",
       "      <td>...</td>\n",
       "      <td>0.374458</td>\n",
       "      <td>0.074514</td>\n",
       "      <td>0.016777</td>\n",
       "      <td>0.108321</td>\n",
       "      <td>-0.026838</td>\n",
       "      <td>1.000000</td>\n",
       "      <td>-0.080428</td>\n",
       "      <td>0.012151</td>\n",
       "      <td>-0.078536</td>\n",
       "      <td>0.320488</td>\n",
       "    </tr>\n",
       "    <tr>\n",
       "      <th>social_upvote_ratio</th>\n",
       "      <td>-0.031343</td>\n",
       "      <td>0.097125</td>\n",
       "      <td>-0.006815</td>\n",
       "      <td>0.009877</td>\n",
       "      <td>0.099256</td>\n",
       "      <td>-0.006797</td>\n",
       "      <td>-0.017517</td>\n",
       "      <td>-0.060588</td>\n",
       "      <td>-0.100387</td>\n",
       "      <td>0.086029</td>\n",
       "      <td>...</td>\n",
       "      <td>-0.103184</td>\n",
       "      <td>0.008844</td>\n",
       "      <td>0.004309</td>\n",
       "      <td>0.051622</td>\n",
       "      <td>-0.016455</td>\n",
       "      <td>-0.080428</td>\n",
       "      <td>1.000000</td>\n",
       "      <td>0.011538</td>\n",
       "      <td>-0.014422</td>\n",
       "      <td>-0.073087</td>\n",
       "    </tr>\n",
       "    <tr>\n",
       "      <th>social_num_comments</th>\n",
       "      <td>-0.007265</td>\n",
       "      <td>-0.038507</td>\n",
       "      <td>-0.056471</td>\n",
       "      <td>-0.024676</td>\n",
       "      <td>0.794517</td>\n",
       "      <td>-0.042912</td>\n",
       "      <td>0.007982</td>\n",
       "      <td>-0.045950</td>\n",
       "      <td>0.055352</td>\n",
       "      <td>-0.083499</td>\n",
       "      <td>...</td>\n",
       "      <td>-0.017950</td>\n",
       "      <td>-0.048020</td>\n",
       "      <td>-0.008879</td>\n",
       "      <td>-0.033903</td>\n",
       "      <td>-0.002724</td>\n",
       "      <td>0.012151</td>\n",
       "      <td>0.011538</td>\n",
       "      <td>1.000000</td>\n",
       "      <td>-0.045006</td>\n",
       "      <td>0.001583</td>\n",
       "    </tr>\n",
       "    <tr>\n",
       "      <th>syntax_fk_grade</th>\n",
       "      <td>0.100821</td>\n",
       "      <td>-0.058567</td>\n",
       "      <td>0.040245</td>\n",
       "      <td>0.002347</td>\n",
       "      <td>-0.020001</td>\n",
       "      <td>0.967380</td>\n",
       "      <td>0.564947</td>\n",
       "      <td>0.270828</td>\n",
       "      <td>0.120024</td>\n",
       "      <td>-0.080276</td>\n",
       "      <td>...</td>\n",
       "      <td>-0.132731</td>\n",
       "      <td>-0.176478</td>\n",
       "      <td>-0.005930</td>\n",
       "      <td>0.000508</td>\n",
       "      <td>0.012685</td>\n",
       "      <td>-0.078536</td>\n",
       "      <td>-0.014422</td>\n",
       "      <td>-0.045006</td>\n",
       "      <td>1.000000</td>\n",
       "      <td>0.070168</td>\n",
       "    </tr>\n",
       "    <tr>\n",
       "      <th>sentiment</th>\n",
       "      <td>0.034676</td>\n",
       "      <td>-0.305157</td>\n",
       "      <td>0.018656</td>\n",
       "      <td>0.027996</td>\n",
       "      <td>0.004918</td>\n",
       "      <td>0.078454</td>\n",
       "      <td>0.005728</td>\n",
       "      <td>0.119168</td>\n",
       "      <td>0.172210</td>\n",
       "      <td>-0.126075</td>\n",
       "      <td>...</td>\n",
       "      <td>0.255831</td>\n",
       "      <td>0.026460</td>\n",
       "      <td>-0.001107</td>\n",
       "      <td>-0.052617</td>\n",
       "      <td>-0.084024</td>\n",
       "      <td>0.320488</td>\n",
       "      <td>-0.073087</td>\n",
       "      <td>0.001583</td>\n",
       "      <td>0.070168</td>\n",
       "      <td>1.000000</td>\n",
       "    </tr>\n",
       "  </tbody>\n",
       "</table>\n",
       "<p>112 rows × 112 columns</p>\n",
       "</div>"
      ],
      "text/plain": [
       "                                id     label  confidence  social_timestamp  \\\n",
       "id                        1.000000 -0.057570    0.198152         -0.004089   \n",
       "label                    -0.057570  1.000000    0.023831         -0.006504   \n",
       "confidence                0.198152  0.023831    1.000000          0.029101   \n",
       "social_timestamp         -0.004089 -0.006504    0.029101          1.000000   \n",
       "social_karma              0.001155 -0.053421   -0.035109         -0.015673   \n",
       "...                            ...       ...         ...               ...   \n",
       "lex_dal_avg_pleasantness  0.018026 -0.165470    0.066168          0.010445   \n",
       "social_upvote_ratio      -0.031343  0.097125   -0.006815          0.009877   \n",
       "social_num_comments      -0.007265 -0.038507   -0.056471         -0.024676   \n",
       "syntax_fk_grade           0.100821 -0.058567    0.040245          0.002347   \n",
       "sentiment                 0.034676 -0.305157    0.018656          0.027996   \n",
       "\n",
       "                          social_karma  syntax_ari  lex_liwc_WC  \\\n",
       "id                            0.001155    0.103680     0.057690   \n",
       "label                        -0.053421   -0.092786     0.100473   \n",
       "confidence                   -0.035109    0.034465    -0.005430   \n",
       "social_timestamp             -0.015673    0.001516     0.013800   \n",
       "social_karma                  1.000000   -0.014104     0.008587   \n",
       "...                                ...         ...          ...   \n",
       "lex_dal_avg_pleasantness      0.007040   -0.105369    -0.064109   \n",
       "social_upvote_ratio           0.099256   -0.006797    -0.017517   \n",
       "social_num_comments           0.794517   -0.042912     0.007982   \n",
       "syntax_fk_grade              -0.020001    0.967380     0.564947   \n",
       "sentiment                     0.004918    0.078454     0.005728   \n",
       "\n",
       "                          lex_liwc_Analytic  lex_liwc_Clout  \\\n",
       "id                                 0.013110        0.055287   \n",
       "label                             -0.247933       -0.403804   \n",
       "confidence                         0.040150       -0.019701   \n",
       "social_timestamp                   0.001789       -0.013092   \n",
       "social_karma                      -0.032604        0.049560   \n",
       "...                                     ...             ...   \n",
       "lex_dal_avg_pleasantness          -0.070831        0.085443   \n",
       "social_upvote_ratio               -0.060588       -0.100387   \n",
       "social_num_comments               -0.045950        0.055352   \n",
       "syntax_fk_grade                    0.270828        0.120024   \n",
       "sentiment                          0.119168        0.172210   \n",
       "\n",
       "                          lex_liwc_Authentic  ...  lex_dal_min_pleasantness  \\\n",
       "id                                 -0.043653  ...                  0.027462   \n",
       "label                               0.275282  ...                 -0.297439   \n",
       "confidence                          0.030784  ...                  0.054247   \n",
       "social_timestamp                    0.023516  ...                 -0.001197   \n",
       "social_karma                       -0.073504  ...                 -0.031136   \n",
       "...                                      ...  ...                       ...   \n",
       "lex_dal_avg_pleasantness           -0.016854  ...                  0.374458   \n",
       "social_upvote_ratio                 0.086029  ...                 -0.103184   \n",
       "social_num_comments                -0.083499  ...                 -0.017950   \n",
       "syntax_fk_grade                    -0.080276  ...                 -0.132731   \n",
       "sentiment                          -0.126075  ...                  0.255831   \n",
       "\n",
       "                          lex_dal_min_activation  lex_dal_min_imagery  \\\n",
       "id                                     -0.042197            -0.023827   \n",
       "label                                  -0.032659            -0.012440   \n",
       "confidence                             -0.000609            -0.043655   \n",
       "social_timestamp                       -0.002790            -0.024561   \n",
       "social_karma                           -0.028579            -0.003248   \n",
       "...                                          ...                  ...   \n",
       "lex_dal_avg_pleasantness                0.074514             0.016777   \n",
       "social_upvote_ratio                     0.008844             0.004309   \n",
       "social_num_comments                    -0.048020            -0.008879   \n",
       "syntax_fk_grade                        -0.176478            -0.005930   \n",
       "sentiment                               0.026460            -0.001107   \n",
       "\n",
       "                          lex_dal_avg_activation  lex_dal_avg_imagery  \\\n",
       "id                                     -0.044492            -0.058451   \n",
       "label                                   0.144963            -0.049756   \n",
       "confidence                              0.019157            -0.064465   \n",
       "social_timestamp                       -0.006740             0.007107   \n",
       "social_karma                           -0.006415            -0.003452   \n",
       "...                                          ...                  ...   \n",
       "lex_dal_avg_pleasantness                0.108321            -0.026838   \n",
       "social_upvote_ratio                     0.051622            -0.016455   \n",
       "social_num_comments                    -0.033903            -0.002724   \n",
       "syntax_fk_grade                         0.000508             0.012685   \n",
       "sentiment                              -0.052617            -0.084024   \n",
       "\n",
       "                          lex_dal_avg_pleasantness  social_upvote_ratio  \\\n",
       "id                                        0.018026            -0.031343   \n",
       "label                                    -0.165470             0.097125   \n",
       "confidence                                0.066168            -0.006815   \n",
       "social_timestamp                          0.010445             0.009877   \n",
       "social_karma                              0.007040             0.099256   \n",
       "...                                            ...                  ...   \n",
       "lex_dal_avg_pleasantness                  1.000000            -0.080428   \n",
       "social_upvote_ratio                      -0.080428             1.000000   \n",
       "social_num_comments                       0.012151             0.011538   \n",
       "syntax_fk_grade                          -0.078536            -0.014422   \n",
       "sentiment                                 0.320488            -0.073087   \n",
       "\n",
       "                          social_num_comments  syntax_fk_grade  sentiment  \n",
       "id                                  -0.007265         0.100821   0.034676  \n",
       "label                               -0.038507        -0.058567  -0.305157  \n",
       "confidence                          -0.056471         0.040245   0.018656  \n",
       "social_timestamp                    -0.024676         0.002347   0.027996  \n",
       "social_karma                         0.794517        -0.020001   0.004918  \n",
       "...                                       ...              ...        ...  \n",
       "lex_dal_avg_pleasantness             0.012151        -0.078536   0.320488  \n",
       "social_upvote_ratio                  0.011538        -0.014422  -0.073087  \n",
       "social_num_comments                  1.000000        -0.045006   0.001583  \n",
       "syntax_fk_grade                     -0.045006         1.000000   0.070168  \n",
       "sentiment                            0.001583         0.070168   1.000000  \n",
       "\n",
       "[112 rows x 112 columns]"
      ]
     },
     "execution_count": 8,
     "metadata": {},
     "output_type": "execute_result"
    }
   ],
   "source": [
    "corr_matrix = data.corr()\n",
    "corr_matrix"
   ]
  },
  {
   "cell_type": "code",
   "execution_count": 9,
   "id": "28b8f01d",
   "metadata": {},
   "outputs": [
    {
     "data": {
      "text/html": [
       "<div>\n",
       "<style scoped>\n",
       "    .dataframe tbody tr th:only-of-type {\n",
       "        vertical-align: middle;\n",
       "    }\n",
       "\n",
       "    .dataframe tbody tr th {\n",
       "        vertical-align: top;\n",
       "    }\n",
       "\n",
       "    .dataframe thead th {\n",
       "        text-align: right;\n",
       "    }\n",
       "</style>\n",
       "<table border=\"1\" class=\"dataframe\">\n",
       "  <thead>\n",
       "    <tr style=\"text-align: right;\">\n",
       "      <th></th>\n",
       "      <th>text</th>\n",
       "    </tr>\n",
       "  </thead>\n",
       "  <tbody>\n",
       "    <tr>\n",
       "      <th>0</th>\n",
       "      <td>He said he had not felt that way before, sugge...</td>\n",
       "    </tr>\n",
       "    <tr>\n",
       "      <th>1</th>\n",
       "      <td>Hey there r/assistance, Not sure if this is th...</td>\n",
       "    </tr>\n",
       "    <tr>\n",
       "      <th>2</th>\n",
       "      <td>My mom then hit me with the newspaper and it s...</td>\n",
       "    </tr>\n",
       "    <tr>\n",
       "      <th>3</th>\n",
       "      <td>until i met my new boyfriend, he is amazing, h...</td>\n",
       "    </tr>\n",
       "    <tr>\n",
       "      <th>4</th>\n",
       "      <td>October is Domestic Violence Awareness Month a...</td>\n",
       "    </tr>\n",
       "    <tr>\n",
       "      <th>5</th>\n",
       "      <td>I think he doesn't want to put in the effort f...</td>\n",
       "    </tr>\n",
       "    <tr>\n",
       "      <th>6</th>\n",
       "      <td>It was a big company so luckily I didn't have ...</td>\n",
       "    </tr>\n",
       "    <tr>\n",
       "      <th>7</th>\n",
       "      <td>It cleared up and I was okay but. On Monday ...</td>\n",
       "    </tr>\n",
       "    <tr>\n",
       "      <th>8</th>\n",
       "      <td>I actually give an assistant half my emergency...</td>\n",
       "    </tr>\n",
       "    <tr>\n",
       "      <th>9</th>\n",
       "      <td>I just feel like the street life has fucked my...</td>\n",
       "    </tr>\n",
       "    <tr>\n",
       "      <th>10</th>\n",
       "      <td>Next week I’ll be flying for our family vacati...</td>\n",
       "    </tr>\n",
       "    <tr>\n",
       "      <th>11</th>\n",
       "      <td>Everything sets me off and I'm almost having a...</td>\n",
       "    </tr>\n",
       "    <tr>\n",
       "      <th>12</th>\n",
       "      <td>I’ve been taking 12.5 mgs zoloft for about 6 m...</td>\n",
       "    </tr>\n",
       "    <tr>\n",
       "      <th>13</th>\n",
       "      <td>No place in my city has shelter space for us, ...</td>\n",
       "    </tr>\n",
       "    <tr>\n",
       "      <th>14</th>\n",
       "      <td>These past couple of months have been the wors...</td>\n",
       "    </tr>\n",
       "    <tr>\n",
       "      <th>15</th>\n",
       "      <td>I asked him three time what happened. And afte...</td>\n",
       "    </tr>\n",
       "    <tr>\n",
       "      <th>16</th>\n",
       "      <td>The sensation lasted hours. It seemed like a c...</td>\n",
       "    </tr>\n",
       "    <tr>\n",
       "      <th>17</th>\n",
       "      <td>It did hurt but didn’t leave any marks. When I...</td>\n",
       "    </tr>\n",
       "    <tr>\n",
       "      <th>18</th>\n",
       "      <td>This is helping to get kids in the area tan ab...</td>\n",
       "    </tr>\n",
       "    <tr>\n",
       "      <th>19</th>\n",
       "      <td>We had plans to move in together, a fancy $1,8...</td>\n",
       "    </tr>\n",
       "    <tr>\n",
       "      <th>20</th>\n",
       "      <td>he still holds me back in life. he still finds...</td>\n",
       "    </tr>\n",
       "    <tr>\n",
       "      <th>21</th>\n",
       "      <td>I was going through a hard time after our brea...</td>\n",
       "    </tr>\n",
       "    <tr>\n",
       "      <th>22</th>\n",
       "      <td>Through work I have been in some dodgy situati...</td>\n",
       "    </tr>\n",
       "    <tr>\n",
       "      <th>23</th>\n",
       "      <td>With a switch blade and open arms In a sweater...</td>\n",
       "    </tr>\n",
       "    <tr>\n",
       "      <th>24</th>\n",
       "      <td>According to [a study from &lt;url&gt; and its subje...</td>\n",
       "    </tr>\n",
       "    <tr>\n",
       "      <th>25</th>\n",
       "      <td>If anything goes wrong, sexually, I want to ce...</td>\n",
       "    </tr>\n",
       "    <tr>\n",
       "      <th>26</th>\n",
       "      <td>I really don’t know what to do about this, and...</td>\n",
       "    </tr>\n",
       "    <tr>\n",
       "      <th>27</th>\n",
       "      <td>November has been one of the worst months in a...</td>\n",
       "    </tr>\n",
       "    <tr>\n",
       "      <th>28</th>\n",
       "      <td>Okay, So in since October have just got out of...</td>\n",
       "    </tr>\n",
       "    <tr>\n",
       "      <th>29</th>\n",
       "      <td>Also the headaches. LOADS of headaches all the...</td>\n",
       "    </tr>\n",
       "  </tbody>\n",
       "</table>\n",
       "</div>"
      ],
      "text/plain": [
       "                                                 text\n",
       "0   He said he had not felt that way before, sugge...\n",
       "1   Hey there r/assistance, Not sure if this is th...\n",
       "2   My mom then hit me with the newspaper and it s...\n",
       "3   until i met my new boyfriend, he is amazing, h...\n",
       "4   October is Domestic Violence Awareness Month a...\n",
       "5   I think he doesn't want to put in the effort f...\n",
       "6   It was a big company so luckily I didn't have ...\n",
       "7     It cleared up and I was okay but. On Monday ...\n",
       "8   I actually give an assistant half my emergency...\n",
       "9   I just feel like the street life has fucked my...\n",
       "10  Next week I’ll be flying for our family vacati...\n",
       "11  Everything sets me off and I'm almost having a...\n",
       "12  I’ve been taking 12.5 mgs zoloft for about 6 m...\n",
       "13  No place in my city has shelter space for us, ...\n",
       "14  These past couple of months have been the wors...\n",
       "15  I asked him three time what happened. And afte...\n",
       "16  The sensation lasted hours. It seemed like a c...\n",
       "17  It did hurt but didn’t leave any marks. When I...\n",
       "18  This is helping to get kids in the area tan ab...\n",
       "19  We had plans to move in together, a fancy $1,8...\n",
       "20  he still holds me back in life. he still finds...\n",
       "21  I was going through a hard time after our brea...\n",
       "22  Through work I have been in some dodgy situati...\n",
       "23  With a switch blade and open arms In a sweater...\n",
       "24  According to [a study from <url> and its subje...\n",
       "25  If anything goes wrong, sexually, I want to ce...\n",
       "26  I really don’t know what to do about this, and...\n",
       "27  November has been one of the worst months in a...\n",
       "28  Okay, So in since October have just got out of...\n",
       "29  Also the headaches. LOADS of headaches all the..."
      ]
     },
     "execution_count": 9,
     "metadata": {},
     "output_type": "execute_result"
    }
   ],
   "source": [
    "pd.DataFrame(data['text'].head(30),index=None)"
   ]
  },
  {
   "cell_type": "code",
   "execution_count": null,
   "id": "985f3f63",
   "metadata": {},
   "outputs": [],
   "source": []
  },
  {
   "cell_type": "code",
   "execution_count": null,
   "id": "661a579d",
   "metadata": {},
   "outputs": [],
   "source": []
  },
  {
   "cell_type": "code",
   "execution_count": 10,
   "id": "0efa21b1",
   "metadata": {},
   "outputs": [
    {
     "name": "stderr",
     "output_type": "stream",
     "text": [
      "[nltk_data] Downloading package stopwords to\n",
      "[nltk_data]     C:\\Users\\kct19\\AppData\\Roaming\\nltk_data...\n",
      "[nltk_data]   Package stopwords is already up-to-date!\n"
     ]
    }
   ],
   "source": [
    "import nltk\n",
    "import re\n",
    "nltk.download('stopwords')\n",
    "stemmer = nltk.SnowballStemmer(\"english\")\n",
    "from nltk.corpus import stopwords\n",
    "import string\n",
    "stopword=set(stopwords.words('english'))\n",
    "\n",
    "def clean(text):\n",
    "    text = str(text).lower()\n",
    "    text = re.sub('\\[.*?\\]', '', text)\n",
    "    text = re.sub('https?://\\S+|www\\.\\S+', '', text)\n",
    "    text = re.sub('<.*?>+', '', text)\n",
    "    text = re.sub('[%s]' % re.escape(string.punctuation), '', text)\n",
    "    text = re.sub('\\n', '', text)\n",
    "    text = re.sub('\\w*\\d\\w*', '', text)\n",
    "    text = [word for word in text.split(' ') if word not in stopword]\n",
    "    text=\" \".join(text)\n",
    "    text = [stemmer.stem(word) for word in text.split(' ')]\n",
    "    text=\" \".join(text)\n",
    "    return text\n",
    "data[\"text\"] = data[\"text\"].apply(clean)"
   ]
  },
  {
   "cell_type": "code",
   "execution_count": 11,
   "id": "3ca85600",
   "metadata": {},
   "outputs": [
    {
     "data": {
      "image/png": "[encoded data removed]",
      "text/plain": [
       "<Figure size 800x800 with 1 Axes>"
      ]
     },
     "metadata": {},
     "output_type": "display_data"
    }
   ],
   "source": [
    "import matplotlib.pyplot as plt\n",
    "from wordcloud import WordCloud, STOPWORDS, ImageColorGenerator\n",
    "text = \" \".join(i for i in data.text)\n",
    "stopwords = set(STOPWORDS)\n",
    "wordcloud = WordCloud(stopwords=stopwords, background_color=\"white\").generate(text)\n",
    "plt.figure( figsize=(8,8))\n",
    "plt.imshow(wordcloud, interpolation='bilinear')\n",
    "plt.axis(\"off\")\n",
    "plt.show()"
   ]
  },
  {
   "cell_type": "code",
   "execution_count": 12,
   "id": "727f9076",
   "metadata": {},
   "outputs": [
    {
     "data": {
      "text/html": [
       "<div>\n",
       "<style scoped>\n",
       "    .dataframe tbody tr th:only-of-type {\n",
       "        vertical-align: middle;\n",
       "    }\n",
       "\n",
       "    .dataframe tbody tr th {\n",
       "        vertical-align: top;\n",
       "    }\n",
       "\n",
       "    .dataframe thead th {\n",
       "        text-align: right;\n",
       "    }\n",
       "</style>\n",
       "<table border=\"1\" class=\"dataframe\">\n",
       "  <thead>\n",
       "    <tr style=\"text-align: right;\">\n",
       "      <th></th>\n",
       "      <th>text</th>\n",
       "    </tr>\n",
       "  </thead>\n",
       "  <tbody>\n",
       "    <tr>\n",
       "      <th>0</th>\n",
       "      <td>said felt way sugget go rest trigger ahead you...</td>\n",
       "    </tr>\n",
       "    <tr>\n",
       "      <th>1</th>\n",
       "      <td>hey rassist sure right place post goe  im curr...</td>\n",
       "    </tr>\n",
       "    <tr>\n",
       "      <th>2</th>\n",
       "      <td>mom hit newspap shock would know dont like pla...</td>\n",
       "    </tr>\n",
       "    <tr>\n",
       "      <th>3</th>\n",
       "      <td>met new boyfriend amaz kind sweet good student...</td>\n",
       "    </tr>\n",
       "    <tr>\n",
       "      <th>4</th>\n",
       "      <td>octob domest violenc awar month domest violenc...</td>\n",
       "    </tr>\n",
       "    <tr>\n",
       "      <th>5</th>\n",
       "      <td>think doesnt want put effort relationship work...</td>\n",
       "    </tr>\n",
       "    <tr>\n",
       "      <th>6</th>\n",
       "      <td>big compani luckili didnt see time act though ...</td>\n",
       "    </tr>\n",
       "    <tr>\n",
       "      <th>7</th>\n",
       "      <td>clear okay monday think human brain work tri...</td>\n",
       "    </tr>\n",
       "    <tr>\n",
       "      <th>8</th>\n",
       "      <td>actual give assist half emerg fee come help so...</td>\n",
       "    </tr>\n",
       "    <tr>\n",
       "      <th>9</th>\n",
       "      <td>feel like street life fuck head there much don...</td>\n",
       "    </tr>\n",
       "    <tr>\n",
       "      <th>10</th>\n",
       "      <td>next week i'll fli famili vacat flight won't l...</td>\n",
       "    </tr>\n",
       "    <tr>\n",
       "      <th>11</th>\n",
       "      <td>everyth set im almost panic attack im go dad s...</td>\n",
       "    </tr>\n",
       "    <tr>\n",
       "      <th>12</th>\n",
       "      <td>i'v take  mgs zoloft  month yeah super small d...</td>\n",
       "    </tr>\n",
       "    <tr>\n",
       "      <th>13</th>\n",
       "      <td>place citi shelter space us wont put babi lite...</td>\n",
       "    </tr>\n",
       "    <tr>\n",
       "      <th>14</th>\n",
       "      <td>past coupl month worst anxieti gotten bad it e...</td>\n",
       "    </tr>\n",
       "    <tr>\n",
       "      <th>15</th>\n",
       "      <td>ask three time happen third time cri went home...</td>\n",
       "    </tr>\n",
       "    <tr>\n",
       "      <th>16</th>\n",
       "      <td>sensat last hour seem like circul problem pani...</td>\n",
       "    </tr>\n",
       "    <tr>\n",
       "      <th>17</th>\n",
       "      <td>hurt didn't leav mark lie kept cough today fee...</td>\n",
       "    </tr>\n",
       "    <tr>\n",
       "      <th>18</th>\n",
       "      <td>help get kid area tan abil practic strong grou...</td>\n",
       "    </tr>\n",
       "    <tr>\n",
       "      <th>19</th>\n",
       "      <td>plan move togeth fanci  home would contribut  ...</td>\n",
       "    </tr>\n",
       "  </tbody>\n",
       "</table>\n",
       "</div>"
      ],
      "text/plain": [
       "                                                 text\n",
       "0   said felt way sugget go rest trigger ahead you...\n",
       "1   hey rassist sure right place post goe  im curr...\n",
       "2   mom hit newspap shock would know dont like pla...\n",
       "3   met new boyfriend amaz kind sweet good student...\n",
       "4   octob domest violenc awar month domest violenc...\n",
       "5   think doesnt want put effort relationship work...\n",
       "6   big compani luckili didnt see time act though ...\n",
       "7     clear okay monday think human brain work tri...\n",
       "8   actual give assist half emerg fee come help so...\n",
       "9   feel like street life fuck head there much don...\n",
       "10  next week i'll fli famili vacat flight won't l...\n",
       "11  everyth set im almost panic attack im go dad s...\n",
       "12  i'v take  mgs zoloft  month yeah super small d...\n",
       "13  place citi shelter space us wont put babi lite...\n",
       "14  past coupl month worst anxieti gotten bad it e...\n",
       "15  ask three time happen third time cri went home...\n",
       "16  sensat last hour seem like circul problem pani...\n",
       "17  hurt didn't leav mark lie kept cough today fee...\n",
       "18  help get kid area tan abil practic strong grou...\n",
       "19  plan move togeth fanci  home would contribut  ..."
      ]
     },
     "execution_count": 12,
     "metadata": {},
     "output_type": "execute_result"
    }
   ],
   "source": [
    "pd.DataFrame(data['text'].head(20),index=None)"
   ]
  },
  {
   "cell_type": "code",
   "execution_count": null,
   "id": "e0edf411",
   "metadata": {},
   "outputs": [],
   "source": []
  },
  {
   "cell_type": "code",
   "execution_count": 13,
   "id": "7dd21827",
   "metadata": {},
   "outputs": [
    {
     "name": "stdout",
     "output_type": "stream",
     "text": [
      "                                                text      label\n",
      "0  said felt way sugget go rest trigger ahead you...     Stress\n",
      "1  hey rassist sure right place post goe  im curr...  No Stress\n",
      "2  mom hit newspap shock would know dont like pla...     Stress\n",
      "3  met new boyfriend amaz kind sweet good student...     Stress\n",
      "4  octob domest violenc awar month domest violenc...     Stress\n"
     ]
    }
   ],
   "source": [
    "data[\"label\"] = data[\"label\"].map({0: \"No Stress\", 1: \"Stress\"})\n",
    "data = data[[\"text\", \"label\"]]\n",
    "print(data.head())"
   ]
  },
  {
   "cell_type": "code",
   "execution_count": 14,
   "id": "e55f63f5",
   "metadata": {},
   "outputs": [],
   "source": [
    "data.to_csv('cleaned_dataset.csv', index=False)"
   ]
  },
  {
   "cell_type": "code",
   "execution_count": 15,
   "id": "23b44a4a",
   "metadata": {},
   "outputs": [
    {
     "data": {
      "text/html": [
       "<div>\n",
       "<style scoped>\n",
       "    .dataframe tbody tr th:only-of-type {\n",
       "        vertical-align: middle;\n",
       "    }\n",
       "\n",
       "    .dataframe tbody tr th {\n",
       "        vertical-align: top;\n",
       "    }\n",
       "\n",
       "    .dataframe thead th {\n",
       "        text-align: right;\n",
       "    }\n",
       "</style>\n",
       "<table border=\"1\" class=\"dataframe\">\n",
       "  <thead>\n",
       "    <tr style=\"text-align: right;\">\n",
       "      <th></th>\n",
       "      <th>text</th>\n",
       "      <th>label</th>\n",
       "    </tr>\n",
       "  </thead>\n",
       "  <tbody>\n",
       "    <tr>\n",
       "      <th>text</th>\n",
       "      <td>1.000000</td>\n",
       "      <td>0.998586</td>\n",
       "    </tr>\n",
       "    <tr>\n",
       "      <th>label</th>\n",
       "      <td>0.998586</td>\n",
       "      <td>1.000000</td>\n",
       "    </tr>\n",
       "  </tbody>\n",
       "</table>\n",
       "</div>"
      ],
      "text/plain": [
       "           text     label\n",
       "text   1.000000  0.998586\n",
       "label  0.998586  1.000000"
      ]
     },
     "execution_count": 15,
     "metadata": {},
     "output_type": "execute_result"
    }
   ],
   "source": [
    "import association_metrics as am\n",
    "# Convert you str columns to Category columns\n",
    "data = data.apply(lambda x: x.astype(\"category\") if x.dtype == \"O\" else x)\n",
    "cramersv = am.CramersV(data)\n",
    "cramersv.fit()"
   ]
  },
  {
   "cell_type": "code",
   "execution_count": 16,
   "id": "7e9915c0",
   "metadata": {},
   "outputs": [
    {
     "name": "stderr",
     "output_type": "stream",
     "text": [
      "F:\\Anaconda\\lib\\site-packages\\phik\\data_quality.py:59: UserWarning: The number of unique values of variable text is large: 2818. Are you sure this is not an interval variable? Analysis for pairs of variables including text can be slow.\n",
      "  warnings.warn(\n"
     ]
    },
    {
     "data": {
      "text/html": [
       "<div>\n",
       "<style scoped>\n",
       "    .dataframe tbody tr th:only-of-type {\n",
       "        vertical-align: middle;\n",
       "    }\n",
       "\n",
       "    .dataframe tbody tr th {\n",
       "        vertical-align: top;\n",
       "    }\n",
       "\n",
       "    .dataframe thead th {\n",
       "        text-align: right;\n",
       "    }\n",
       "</style>\n",
       "<table border=\"1\" class=\"dataframe\">\n",
       "  <thead>\n",
       "    <tr style=\"text-align: right;\">\n",
       "      <th></th>\n",
       "      <th>text</th>\n",
       "      <th>label</th>\n",
       "    </tr>\n",
       "  </thead>\n",
       "  <tbody>\n",
       "    <tr>\n",
       "      <th>text</th>\n",
       "      <td>1.000000</td>\n",
       "      <td>0.908538</td>\n",
       "    </tr>\n",
       "    <tr>\n",
       "      <th>label</th>\n",
       "      <td>0.908538</td>\n",
       "      <td>1.000000</td>\n",
       "    </tr>\n",
       "  </tbody>\n",
       "</table>\n",
       "</div>"
      ],
      "text/plain": [
       "           text     label\n",
       "text   1.000000  0.908538\n",
       "label  0.908538  1.000000"
      ]
     },
     "execution_count": 16,
     "metadata": {},
     "output_type": "execute_result"
    }
   ],
   "source": [
    "import pandas as pd\n",
    "import matplotlib.pyplot as plt\n",
    "\n",
    "import phik\n",
    "from phik.report import plot_correlation_matrix\n",
    "from phik import report\n",
    "\n",
    "phik_overview = data.phik_matrix()\n",
    "phik_overview"
   ]
  },
  {
   "cell_type": "code",
   "execution_count": 17,
   "id": "edd2ded3",
   "metadata": {},
   "outputs": [
    {
     "data": {
      "image/png": "[encoded data removed]",
      "text/plain": [
       "<Figure size 300x300 with 2 Axes>"
      ]
     },
     "metadata": {},
     "output_type": "display_data"
    }
   ],
   "source": [
    "plot_correlation_matrix(phik_overview.values, \n",
    "                        x_labels=phik_overview.columns, \n",
    "                        y_labels=phik_overview.index, \n",
    "                        vmin=0, vmax=1, color_map=\"Greens\", \n",
    "                        title=r\"correlation $\\phi_K$\", \n",
    "                        fontsize_factor=1, \n",
    "                        figsize=(3, 3))\n",
    "plt.tight_layout()"
   ]
  },
  {
   "cell_type": "code",
   "execution_count": 18,
   "id": "11162805",
   "metadata": {},
   "outputs": [],
   "source": [
    "from sklearn.feature_extraction.text import CountVectorizer\n",
    "from sklearn.model_selection import train_test_split\n",
    "\n",
    "x = np.array(data[\"text\"])\n",
    "y = np.array(data[\"label\"])\n",
    "\n",
    "cv = CountVectorizer()\n",
    "X = cv.fit_transform(x)\n",
    "xtrain, xtest, ytrain, ytest = train_test_split(X, y, test_size=0.33,random_state=42)"
   ]
  },
  {
   "cell_type": "code",
   "execution_count": 19,
   "id": "5ff2799b",
   "metadata": {},
   "outputs": [
    {
     "data": {
      "text/plain": [
       "BernoulliNB()"
      ]
     },
     "execution_count": 19,
     "metadata": {},
     "output_type": "execute_result"
    }
   ],
   "source": [
    "from sklearn.naive_bayes import BernoulliNB\n",
    "model = BernoulliNB()\n",
    "model.fit(xtrain, ytrain)"
   ]
  },
  {
   "cell_type": "code",
   "execution_count": 20,
   "id": "bba70ec5",
   "metadata": {},
   "outputs": [
    {
     "name": "stdout",
     "output_type": "stream",
     "text": [
      "Enter a Text: hello\n",
      "['No Stress']\n"
     ]
    }
   ],
   "source": [
    "user = input(\"Enter a Text: \")\n",
    "data = cv.transform([user]).toarray()\n",
    "output = model.predict(data)\n",
    "print(output)"
   ]
  },
  {
   "cell_type": "code",
   "execution_count": 21,
   "id": "7fca3bdd",
   "metadata": {},
   "outputs": [
    {
     "name": "stdout",
     "output_type": "stream",
     "text": [
      "0.9195160441872698\n"
     ]
    }
   ],
   "source": [
    "print(model.score(xtrain, ytrain))"
   ]
  },
  {
   "cell_type": "code",
   "execution_count": 22,
   "id": "e78a428b",
   "metadata": {},
   "outputs": [],
   "source": [
    "import pandas as pd\n",
    "import numpy as np"
   ]
  },
  {
   "cell_type": "code",
   "execution_count": 23,
   "id": "2da11c40",
   "metadata": {},
   "outputs": [],
   "source": [
    "d2 = pd.read_csv('cleaned_dataset.csv')"
   ]
  },
  {
   "cell_type": "code",
   "execution_count": 24,
   "id": "241aef11",
   "metadata": {
    "scrolled": false
   },
   "outputs": [
    {
     "data": {
      "text/html": [
       "<div>\n",
       "<style scoped>\n",
       "    .dataframe tbody tr th:only-of-type {\n",
       "        vertical-align: middle;\n",
       "    }\n",
       "\n",
       "    .dataframe tbody tr th {\n",
       "        vertical-align: top;\n",
       "    }\n",
       "\n",
       "    .dataframe thead th {\n",
       "        text-align: right;\n",
       "    }\n",
       "</style>\n",
       "<table border=\"1\" class=\"dataframe\">\n",
       "  <thead>\n",
       "    <tr style=\"text-align: right;\">\n",
       "      <th></th>\n",
       "      <th>text</th>\n",
       "      <th>label</th>\n",
       "    </tr>\n",
       "  </thead>\n",
       "  <tbody>\n",
       "    <tr>\n",
       "      <th>0</th>\n",
       "      <td>said felt way sugget go rest trigger ahead you...</td>\n",
       "      <td>Stress</td>\n",
       "    </tr>\n",
       "    <tr>\n",
       "      <th>1</th>\n",
       "      <td>hey rassist sure right place post goe  im curr...</td>\n",
       "      <td>No Stress</td>\n",
       "    </tr>\n",
       "    <tr>\n",
       "      <th>2</th>\n",
       "      <td>mom hit newspap shock would know dont like pla...</td>\n",
       "      <td>Stress</td>\n",
       "    </tr>\n",
       "    <tr>\n",
       "      <th>3</th>\n",
       "      <td>met new boyfriend amaz kind sweet good student...</td>\n",
       "      <td>Stress</td>\n",
       "    </tr>\n",
       "    <tr>\n",
       "      <th>4</th>\n",
       "      <td>octob domest violenc awar month domest violenc...</td>\n",
       "      <td>Stress</td>\n",
       "    </tr>\n",
       "    <tr>\n",
       "      <th>5</th>\n",
       "      <td>think doesnt want put effort relationship work...</td>\n",
       "      <td>Stress</td>\n",
       "    </tr>\n",
       "    <tr>\n",
       "      <th>6</th>\n",
       "      <td>big compani luckili didnt see time act though ...</td>\n",
       "      <td>No Stress</td>\n",
       "    </tr>\n",
       "    <tr>\n",
       "      <th>7</th>\n",
       "      <td>clear okay monday think human brain work tri...</td>\n",
       "      <td>Stress</td>\n",
       "    </tr>\n",
       "    <tr>\n",
       "      <th>8</th>\n",
       "      <td>actual give assist half emerg fee come help so...</td>\n",
       "      <td>Stress</td>\n",
       "    </tr>\n",
       "    <tr>\n",
       "      <th>9</th>\n",
       "      <td>feel like street life fuck head there much don...</td>\n",
       "      <td>Stress</td>\n",
       "    </tr>\n",
       "    <tr>\n",
       "      <th>10</th>\n",
       "      <td>next week i'll fli famili vacat flight won't l...</td>\n",
       "      <td>Stress</td>\n",
       "    </tr>\n",
       "    <tr>\n",
       "      <th>11</th>\n",
       "      <td>everyth set im almost panic attack im go dad s...</td>\n",
       "      <td>Stress</td>\n",
       "    </tr>\n",
       "    <tr>\n",
       "      <th>12</th>\n",
       "      <td>i'v take  mgs zoloft  month yeah super small d...</td>\n",
       "      <td>Stress</td>\n",
       "    </tr>\n",
       "    <tr>\n",
       "      <th>13</th>\n",
       "      <td>place citi shelter space us wont put babi lite...</td>\n",
       "      <td>Stress</td>\n",
       "    </tr>\n",
       "    <tr>\n",
       "      <th>14</th>\n",
       "      <td>past coupl month worst anxieti gotten bad it e...</td>\n",
       "      <td>Stress</td>\n",
       "    </tr>\n",
       "  </tbody>\n",
       "</table>\n",
       "</div>"
      ],
      "text/plain": [
       "                                                 text      label\n",
       "0   said felt way sugget go rest trigger ahead you...     Stress\n",
       "1   hey rassist sure right place post goe  im curr...  No Stress\n",
       "2   mom hit newspap shock would know dont like pla...     Stress\n",
       "3   met new boyfriend amaz kind sweet good student...     Stress\n",
       "4   octob domest violenc awar month domest violenc...     Stress\n",
       "5   think doesnt want put effort relationship work...     Stress\n",
       "6   big compani luckili didnt see time act though ...  No Stress\n",
       "7     clear okay monday think human brain work tri...     Stress\n",
       "8   actual give assist half emerg fee come help so...     Stress\n",
       "9   feel like street life fuck head there much don...     Stress\n",
       "10  next week i'll fli famili vacat flight won't l...     Stress\n",
       "11  everyth set im almost panic attack im go dad s...     Stress\n",
       "12  i'v take  mgs zoloft  month yeah super small d...     Stress\n",
       "13  place citi shelter space us wont put babi lite...     Stress\n",
       "14  past coupl month worst anxieti gotten bad it e...     Stress"
      ]
     },
     "execution_count": 24,
     "metadata": {},
     "output_type": "execute_result"
    }
   ],
   "source": [
    "d2.head(15)"
   ]
  },
  {
   "cell_type": "code",
   "execution_count": null,
   "id": "5add607a",
   "metadata": {},
   "outputs": [],
   "source": []
  },
  {
   "cell_type": "code",
   "execution_count": 25,
   "id": "49805e6b",
   "metadata": {},
   "outputs": [
    {
     "data": {
      "text/plain": [
       "0       said felt way sugget go rest trigger ahead you...\n",
       "1       hey rassist sure right place post goe  im curr...\n",
       "2       mom hit newspap shock would know dont like pla...\n",
       "3       met new boyfriend amaz kind sweet good student...\n",
       "4       octob domest violenc awar month domest violenc...\n",
       "                              ...                        \n",
       "2833     week ago precious ignor  jan  happi year prec...\n",
       "2834    dont abil cope anymor im tri lot thing trigger...\n",
       "2835    case first time your read post look peopl will...\n",
       "2836    find normal good relationship main problem see...\n",
       "2837    talk mom morn said sister trauma wors mine did...\n",
       "Name: text, Length: 2838, dtype: object"
      ]
     },
     "execution_count": 25,
     "metadata": {},
     "output_type": "execute_result"
    }
   ],
   "source": [
    "d2['text']"
   ]
  },
  {
   "cell_type": "code",
   "execution_count": 26,
   "id": "97059ca0",
   "metadata": {},
   "outputs": [
    {
     "data": {
      "image/png": "[encoded data removed]",
      "text/plain": [
       "<Figure size 640x480 with 1 Axes>"
      ]
     },
     "metadata": {},
     "output_type": "display_data"
    }
   ],
   "source": [
    "import matplotlib.pyplot as plt  \n",
    "import seaborn as sns  \n",
    "import pandas as pd    \n",
    "sns.countplot(x='label',data=d2)  \n",
    "plt.show()  "
   ]
  },
  {
   "cell_type": "code",
   "execution_count": 27,
   "id": "64673cb5",
   "metadata": {},
   "outputs": [
    {
     "data": {
      "text/plain": [
       "Stress       1488\n",
       "No Stress    1350\n",
       "Name: label, dtype: int64"
      ]
     },
     "execution_count": 27,
     "metadata": {},
     "output_type": "execute_result"
    }
   ],
   "source": [
    "d2['label'].value_counts()"
   ]
  },
  {
   "cell_type": "code",
   "execution_count": null,
   "id": "9261ec86",
   "metadata": {},
   "outputs": [],
   "source": []
  },
  {
   "cell_type": "code",
   "execution_count": 28,
   "id": "d1d9618a",
   "metadata": {},
   "outputs": [],
   "source": [
    "from sklearn.feature_extraction.text import CountVectorizer\n",
    "from sklearn.model_selection import train_test_split\n",
    "\n",
    "x = np.array(d2[\"text\"])\n",
    "y = np.array(d2[\"label\"])\n",
    "\n",
    "cv = CountVectorizer()\n",
    "X = cv.fit_transform(x)\n",
    "xtrain, xtest, ytrain, ytest = train_test_split(X, y, test_size=0.2,random_state=42)"
   ]
  },
  {
   "cell_type": "code",
   "execution_count": 56,
   "id": "2b867f80",
   "metadata": {},
   "outputs": [
    {
     "data": {
      "text/plain": [
       "BernoulliNB()"
      ]
     },
     "execution_count": 56,
     "metadata": {},
     "output_type": "execute_result"
    }
   ],
   "source": [
    "from sklearn.naive_bayes import BernoulliNB\n",
    "model = BernoulliNB()\n",
    "model.fit(xtrain, ytrain)"
   ]
  },
  {
   "cell_type": "code",
   "execution_count": 57,
   "id": "181517a8",
   "metadata": {},
   "outputs": [
    {
     "name": "stdout",
     "output_type": "stream",
     "text": [
      "0.7517605633802817\n"
     ]
    }
   ],
   "source": [
    "print(model.score(xtest,ytest))"
   ]
  },
  {
   "cell_type": "code",
   "execution_count": 95,
   "id": "f918fa50",
   "metadata": {},
   "outputs": [],
   "source": [
    "from sklearn.model_selection import cross_val_score\n",
    "from sklearn.pipeline import make_pipeline\n",
    "from sklearn.preprocessing import StandardScaler\n",
    "from sklearn.svm import SVC\n",
    "from sklearn.ensemble import RandomForestClassifier\n",
    "from sklearn.naive_bayes import BernoulliNB\n",
    "from sklearn.ensemble import AdaBoostClassifier\n",
    "from sklearn.svm import SVC\n",
    "from sklearn.neighbors import KNeighborsClassifier \n",
    "from sklearn.tree import DecisionTreeClassifier\n",
    "from sklearn.linear_model import LogisticRegression\n",
    "import pandas as pd\n",
    "from sklearn.metrics import precision_recall_curve\n",
    "from sklearn.metrics import plot_precision_recall_curve\n",
    "from sklearn.metrics import precision_score\n",
    "from sklearn.metrics import recall_score\n",
    "import matplotlib.pyplot as plt\n",
    "  \n",
    "\n",
    "\n",
    "def Model(algo):\n",
    "    pipeline = make_pipeline(algo())\n",
    "    model = algo()\n",
    "    model.fit(xtrain,ytrain)\n",
    "    y_pred = model.predict(xtest)\n",
    "\n",
    "    scores = cross_val_score(pipeline, X=xtrain, y=ytrain, cv=40, n_jobs=1)\n",
    " \n",
    "    #print('Cross Validation accuracy scores: %s' % scores)\n",
    " \n",
    "    #print('Cross Validation accuracy: %.3f +/- %.3f' % (np.mean(scores),np.std(scores)))\n",
    "    #print('Maximum score :',max(scores))\n",
    "    precision = precision_score(ytest, y_pred,pos_label=\"Stress\")\n",
    "    recall = recall_score(ytest, y_pred,pos_label=\"Stress\")\n",
    "    f1_score = 2*((precision*recall)/(precision+recall))\n",
    " \n",
    "    #print('Precision: ',precision)\n",
    "    #print('Recall: ',recall)\n",
    "    l = [precision.round(1,2),recall*100,f1_score*100,max(scores)*100]\n",
    "    return l"
   ]
  },
  {
   "cell_type": "code",
   "execution_count": 96,
   "id": "2483c91b",
   "metadata": {},
   "outputs": [
    {
     "ename": "TypeError",
     "evalue": "output must be an array",
     "output_type": "error",
     "traceback": [
      "\u001b[1;31m---------------------------------------------------------------------------\u001b[0m",
      "\u001b[1;31mTypeError\u001b[0m                                 Traceback (most recent call last)",
      "\u001b[1;32m~\\AppData\\Local\\Temp\\ipykernel_1096\\2148031407.py\u001b[0m in \u001b[0;36m<module>\u001b[1;34m\u001b[0m\n\u001b[1;32m----> 1\u001b[1;33m \u001b[0mModel\u001b[0m\u001b[1;33m(\u001b[0m\u001b[0mLogisticRegression\u001b[0m\u001b[1;33m)\u001b[0m\u001b[1;33m\u001b[0m\u001b[1;33m\u001b[0m\u001b[0m\n\u001b[0m",
      "\u001b[1;32m~\\AppData\\Local\\Temp\\ipykernel_1096\\2916462199.py\u001b[0m in \u001b[0;36mModel\u001b[1;34m(algo)\u001b[0m\n\u001b[0;32m     37\u001b[0m     \u001b[1;31m#print('Precision: ',precision)\u001b[0m\u001b[1;33m\u001b[0m\u001b[1;33m\u001b[0m\u001b[0m\n\u001b[0;32m     38\u001b[0m     \u001b[1;31m#print('Recall: ',recall)\u001b[0m\u001b[1;33m\u001b[0m\u001b[1;33m\u001b[0m\u001b[0m\n\u001b[1;32m---> 39\u001b[1;33m     \u001b[0ml\u001b[0m \u001b[1;33m=\u001b[0m \u001b[1;33m[\u001b[0m\u001b[0mprecision\u001b[0m\u001b[1;33m.\u001b[0m\u001b[0mround\u001b[0m\u001b[1;33m(\u001b[0m\u001b[1;36m1\u001b[0m\u001b[1;33m,\u001b[0m\u001b[1;36m2\u001b[0m\u001b[1;33m)\u001b[0m\u001b[1;33m,\u001b[0m\u001b[0mrecall\u001b[0m\u001b[1;33m*\u001b[0m\u001b[1;36m100\u001b[0m\u001b[1;33m,\u001b[0m\u001b[0mf1_score\u001b[0m\u001b[1;33m*\u001b[0m\u001b[1;36m100\u001b[0m\u001b[1;33m,\u001b[0m\u001b[0mmax\u001b[0m\u001b[1;33m(\u001b[0m\u001b[0mscores\u001b[0m\u001b[1;33m)\u001b[0m\u001b[1;33m*\u001b[0m\u001b[1;36m100\u001b[0m\u001b[1;33m]\u001b[0m\u001b[1;33m\u001b[0m\u001b[1;33m\u001b[0m\u001b[0m\n\u001b[0m\u001b[0;32m     40\u001b[0m     \u001b[1;32mreturn\u001b[0m \u001b[0ml\u001b[0m\u001b[1;33m\u001b[0m\u001b[1;33m\u001b[0m\u001b[0m\n",
      "\u001b[1;31mTypeError\u001b[0m: output must be an array"
     ]
    }
   ],
   "source": [
    "Model(LogisticRegression)"
   ]
  },
  {
   "cell_type": "code",
   "execution_count": 78,
   "id": "1e0cbe68",
   "metadata": {},
   "outputs": [
    {
     "name": "stdout",
     "output_type": "stream",
     "text": [
      "Cross Validation accuracy scores: [0.80701754 0.70175439 0.70175439 0.71929825 0.80701754 0.85964912\n",
      " 0.73684211 0.66666667 0.61403509 0.66666667 0.78947368 0.71929825\n",
      " 0.78947368 0.70175439 0.70175439 0.71929825 0.80701754 0.71929825\n",
      " 0.78947368 0.73684211 0.71929825 0.71929825 0.78947368 0.73684211\n",
      " 0.75438596 0.77192982 0.68421053 0.75438596 0.73684211 0.75438596\n",
      " 0.67857143 0.76785714 0.73214286 0.69642857 0.76785714 0.73214286\n",
      " 0.64285714 0.64285714 0.76785714 0.66071429]\n",
      "Cross Validation accuracy: 0.732 +/- 0.052\n",
      "Maximum score : 0.8596491228070176\n",
      "Precision:  0.7397660818713451\n",
      "Recall:  0.8295081967213115\n",
      "[0.7397660818713451, 0.8295081967213115, 0.7820710973724885, 0.8596491228070176]\n"
     ]
    }
   ],
   "source": [
    "Model(BernoulliNB)"
   ]
  },
  {
   "cell_type": "code",
   "execution_count": 79,
   "id": "80c48745",
   "metadata": {},
   "outputs": [
    {
     "name": "stdout",
     "output_type": "stream",
     "text": [
      "Cross Validation accuracy scores: [0.84210526 0.70175439 0.78947368 0.75438596 0.77192982 0.75438596\n",
      " 0.73684211 0.73684211 0.64912281 0.75438596 0.70175439 0.71929825\n",
      " 0.78947368 0.73684211 0.77192982 0.68421053 0.73684211 0.77192982\n",
      " 0.75438596 0.75438596 0.66666667 0.59649123 0.84210526 0.66666667\n",
      " 0.66666667 0.70175439 0.66666667 0.73684211 0.71929825 0.71929825\n",
      " 0.66071429 0.73214286 0.76785714 0.67857143 0.73214286 0.73214286\n",
      " 0.60714286 0.66071429 0.69642857 0.75      ]\n",
      "Cross Validation accuracy: 0.723 +/- 0.053\n",
      "Maximum score : 0.8421052631578947\n",
      "Precision:  0.7065527065527065\n",
      "Recall:  0.8131147540983606\n",
      "[0.7065527065527065, 0.8131147540983606, 0.7560975609756098, 0.8421052631578947]\n"
     ]
    }
   ],
   "source": [
    "Model(RandomForestClassifier)"
   ]
  },
  {
   "cell_type": "code",
   "execution_count": 35,
   "id": "d2e2a7a7",
   "metadata": {},
   "outputs": [
    {
     "name": "stdout",
     "output_type": "stream",
     "text": [
      "Cross Validation accuracy scores: [0.66666667 0.64912281 0.73684211 0.66666667 0.73684211 0.77192982\n",
      " 0.68421053 0.70175439 0.63157895 0.71929825 0.59649123 0.66666667\n",
      " 0.77192982 0.61403509 0.71929825 0.66666667 0.63157895 0.66666667\n",
      " 0.75438596 0.8245614  0.71929825 0.66666667 0.71929825 0.59649123\n",
      " 0.66666667 0.63157895 0.63157895 0.66666667 0.71929825 0.66666667\n",
      " 0.67857143 0.58928571 0.66071429 0.73214286 0.75       0.58928571\n",
      " 0.55357143 0.66071429 0.57142857 0.73214286]\n",
      "Cross Validation accuracy: 0.677 +/- 0.060\n",
      "Maximum score : 0.8245614035087719\n"
     ]
    }
   ],
   "source": [
    "Model(AdaBoostClassifier)"
   ]
  },
  {
   "cell_type": "code",
   "execution_count": 36,
   "id": "23b8e26d",
   "metadata": {},
   "outputs": [
    {
     "name": "stdout",
     "output_type": "stream",
     "text": [
      "Cross Validation accuracy scores: [0.77192982 0.73684211 0.63157895 0.68421053 0.73684211 0.75438596\n",
      " 0.70175439 0.71929825 0.66666667 0.73684211 0.70175439 0.73684211\n",
      " 0.77192982 0.73684211 0.84210526 0.75438596 0.71929825 0.71929825\n",
      " 0.77192982 0.73684211 0.66666667 0.68421053 0.78947368 0.73684211\n",
      " 0.68421053 0.71929825 0.75438596 0.77192982 0.73684211 0.73684211\n",
      " 0.75       0.75       0.71428571 0.69642857 0.75       0.80357143\n",
      " 0.67857143 0.66071429 0.75       0.69642857]\n",
      "Cross Validation accuracy: 0.729 +/- 0.041\n",
      "Maximum score : 0.8421052631578947\n"
     ]
    }
   ],
   "source": [
    "Model(SVC)"
   ]
  },
  {
   "cell_type": "code",
   "execution_count": 37,
   "id": "a927f9c3",
   "metadata": {},
   "outputs": [
    {
     "name": "stderr",
     "output_type": "stream",
     "text": [
      "F:\\Anaconda\\lib\\site-packages\\sklearn\\neighbors\\_classification.py:228: FutureWarning: Unlike other reduction functions (e.g. `skew`, `kurtosis`), the default behavior of `mode` typically preserves the axis it acts along. In SciPy 1.11.0, this behavior will change: the default value of `keepdims` will become False, the `axis` over which the statistic is taken will be eliminated, and the value None will no longer be accepted. Set `keepdims` to True or False to avoid this warning.\n",
      "  mode, _ = stats.mode(_y[neigh_ind, k], axis=1)\n",
      "F:\\Anaconda\\lib\\site-packages\\sklearn\\neighbors\\_classification.py:228: FutureWarning: Unlike other reduction functions (e.g. `skew`, `kurtosis`), the default behavior of `mode` typically preserves the axis it acts along. In SciPy 1.11.0, this behavior will change: the default value of `keepdims` will become False, the `axis` over which the statistic is taken will be eliminated, and the value None will no longer be accepted. Set `keepdims` to True or False to avoid this warning.\n",
      "  mode, _ = stats.mode(_y[neigh_ind, k], axis=1)\n",
      "F:\\Anaconda\\lib\\site-packages\\sklearn\\neighbors\\_classification.py:228: FutureWarning: Unlike other reduction functions (e.g. `skew`, `kurtosis`), the default behavior of `mode` typically preserves the axis it acts along. In SciPy 1.11.0, this behavior will change: the default value of `keepdims` will become False, the `axis` over which the statistic is taken will be eliminated, and the value None will no longer be accepted. Set `keepdims` to True or False to avoid this warning.\n",
      "  mode, _ = stats.mode(_y[neigh_ind, k], axis=1)\n",
      "F:\\Anaconda\\lib\\site-packages\\sklearn\\neighbors\\_classification.py:228: FutureWarning: Unlike other reduction functions (e.g. `skew`, `kurtosis`), the default behavior of `mode` typically preserves the axis it acts along. In SciPy 1.11.0, this behavior will change: the default value of `keepdims` will become False, the `axis` over which the statistic is taken will be eliminated, and the value None will no longer be accepted. Set `keepdims` to True or False to avoid this warning.\n",
      "  mode, _ = stats.mode(_y[neigh_ind, k], axis=1)\n",
      "F:\\Anaconda\\lib\\site-packages\\sklearn\\neighbors\\_classification.py:228: FutureWarning: Unlike other reduction functions (e.g. `skew`, `kurtosis`), the default behavior of `mode` typically preserves the axis it acts along. In SciPy 1.11.0, this behavior will change: the default value of `keepdims` will become False, the `axis` over which the statistic is taken will be eliminated, and the value None will no longer be accepted. Set `keepdims` to True or False to avoid this warning.\n",
      "  mode, _ = stats.mode(_y[neigh_ind, k], axis=1)\n",
      "F:\\Anaconda\\lib\\site-packages\\sklearn\\neighbors\\_classification.py:228: FutureWarning: Unlike other reduction functions (e.g. `skew`, `kurtosis`), the default behavior of `mode` typically preserves the axis it acts along. In SciPy 1.11.0, this behavior will change: the default value of `keepdims` will become False, the `axis` over which the statistic is taken will be eliminated, and the value None will no longer be accepted. Set `keepdims` to True or False to avoid this warning.\n",
      "  mode, _ = stats.mode(_y[neigh_ind, k], axis=1)\n",
      "F:\\Anaconda\\lib\\site-packages\\sklearn\\neighbors\\_classification.py:228: FutureWarning: Unlike other reduction functions (e.g. `skew`, `kurtosis`), the default behavior of `mode` typically preserves the axis it acts along. In SciPy 1.11.0, this behavior will change: the default value of `keepdims` will become False, the `axis` over which the statistic is taken will be eliminated, and the value None will no longer be accepted. Set `keepdims` to True or False to avoid this warning.\n",
      "  mode, _ = stats.mode(_y[neigh_ind, k], axis=1)\n",
      "F:\\Anaconda\\lib\\site-packages\\sklearn\\neighbors\\_classification.py:228: FutureWarning: Unlike other reduction functions (e.g. `skew`, `kurtosis`), the default behavior of `mode` typically preserves the axis it acts along. In SciPy 1.11.0, this behavior will change: the default value of `keepdims` will become False, the `axis` over which the statistic is taken will be eliminated, and the value None will no longer be accepted. Set `keepdims` to True or False to avoid this warning.\n",
      "  mode, _ = stats.mode(_y[neigh_ind, k], axis=1)\n",
      "F:\\Anaconda\\lib\\site-packages\\sklearn\\neighbors\\_classification.py:228: FutureWarning: Unlike other reduction functions (e.g. `skew`, `kurtosis`), the default behavior of `mode` typically preserves the axis it acts along. In SciPy 1.11.0, this behavior will change: the default value of `keepdims` will become False, the `axis` over which the statistic is taken will be eliminated, and the value None will no longer be accepted. Set `keepdims` to True or False to avoid this warning.\n",
      "  mode, _ = stats.mode(_y[neigh_ind, k], axis=1)\n",
      "F:\\Anaconda\\lib\\site-packages\\sklearn\\neighbors\\_classification.py:228: FutureWarning: Unlike other reduction functions (e.g. `skew`, `kurtosis`), the default behavior of `mode` typically preserves the axis it acts along. In SciPy 1.11.0, this behavior will change: the default value of `keepdims` will become False, the `axis` over which the statistic is taken will be eliminated, and the value None will no longer be accepted. Set `keepdims` to True or False to avoid this warning.\n",
      "  mode, _ = stats.mode(_y[neigh_ind, k], axis=1)\n",
      "F:\\Anaconda\\lib\\site-packages\\sklearn\\neighbors\\_classification.py:228: FutureWarning: Unlike other reduction functions (e.g. `skew`, `kurtosis`), the default behavior of `mode` typically preserves the axis it acts along. In SciPy 1.11.0, this behavior will change: the default value of `keepdims` will become False, the `axis` over which the statistic is taken will be eliminated, and the value None will no longer be accepted. Set `keepdims` to True or False to avoid this warning.\n",
      "  mode, _ = stats.mode(_y[neigh_ind, k], axis=1)\n",
      "F:\\Anaconda\\lib\\site-packages\\sklearn\\neighbors\\_classification.py:228: FutureWarning: Unlike other reduction functions (e.g. `skew`, `kurtosis`), the default behavior of `mode` typically preserves the axis it acts along. In SciPy 1.11.0, this behavior will change: the default value of `keepdims` will become False, the `axis` over which the statistic is taken will be eliminated, and the value None will no longer be accepted. Set `keepdims` to True or False to avoid this warning.\n",
      "  mode, _ = stats.mode(_y[neigh_ind, k], axis=1)\n",
      "F:\\Anaconda\\lib\\site-packages\\sklearn\\neighbors\\_classification.py:228: FutureWarning: Unlike other reduction functions (e.g. `skew`, `kurtosis`), the default behavior of `mode` typically preserves the axis it acts along. In SciPy 1.11.0, this behavior will change: the default value of `keepdims` will become False, the `axis` over which the statistic is taken will be eliminated, and the value None will no longer be accepted. Set `keepdims` to True or False to avoid this warning.\n",
      "  mode, _ = stats.mode(_y[neigh_ind, k], axis=1)\n",
      "F:\\Anaconda\\lib\\site-packages\\sklearn\\neighbors\\_classification.py:228: FutureWarning: Unlike other reduction functions (e.g. `skew`, `kurtosis`), the default behavior of `mode` typically preserves the axis it acts along. In SciPy 1.11.0, this behavior will change: the default value of `keepdims` will become False, the `axis` over which the statistic is taken will be eliminated, and the value None will no longer be accepted. Set `keepdims` to True or False to avoid this warning.\n",
      "  mode, _ = stats.mode(_y[neigh_ind, k], axis=1)\n",
      "F:\\Anaconda\\lib\\site-packages\\sklearn\\neighbors\\_classification.py:228: FutureWarning: Unlike other reduction functions (e.g. `skew`, `kurtosis`), the default behavior of `mode` typically preserves the axis it acts along. In SciPy 1.11.0, this behavior will change: the default value of `keepdims` will become False, the `axis` over which the statistic is taken will be eliminated, and the value None will no longer be accepted. Set `keepdims` to True or False to avoid this warning.\n",
      "  mode, _ = stats.mode(_y[neigh_ind, k], axis=1)\n",
      "F:\\Anaconda\\lib\\site-packages\\sklearn\\neighbors\\_classification.py:228: FutureWarning: Unlike other reduction functions (e.g. `skew`, `kurtosis`), the default behavior of `mode` typically preserves the axis it acts along. In SciPy 1.11.0, this behavior will change: the default value of `keepdims` will become False, the `axis` over which the statistic is taken will be eliminated, and the value None will no longer be accepted. Set `keepdims` to True or False to avoid this warning.\n",
      "  mode, _ = stats.mode(_y[neigh_ind, k], axis=1)\n",
      "F:\\Anaconda\\lib\\site-packages\\sklearn\\neighbors\\_classification.py:228: FutureWarning: Unlike other reduction functions (e.g. `skew`, `kurtosis`), the default behavior of `mode` typically preserves the axis it acts along. In SciPy 1.11.0, this behavior will change: the default value of `keepdims` will become False, the `axis` over which the statistic is taken will be eliminated, and the value None will no longer be accepted. Set `keepdims` to True or False to avoid this warning.\n",
      "  mode, _ = stats.mode(_y[neigh_ind, k], axis=1)\n",
      "F:\\Anaconda\\lib\\site-packages\\sklearn\\neighbors\\_classification.py:228: FutureWarning: Unlike other reduction functions (e.g. `skew`, `kurtosis`), the default behavior of `mode` typically preserves the axis it acts along. In SciPy 1.11.0, this behavior will change: the default value of `keepdims` will become False, the `axis` over which the statistic is taken will be eliminated, and the value None will no longer be accepted. Set `keepdims` to True or False to avoid this warning.\n",
      "  mode, _ = stats.mode(_y[neigh_ind, k], axis=1)\n",
      "F:\\Anaconda\\lib\\site-packages\\sklearn\\neighbors\\_classification.py:228: FutureWarning: Unlike other reduction functions (e.g. `skew`, `kurtosis`), the default behavior of `mode` typically preserves the axis it acts along. In SciPy 1.11.0, this behavior will change: the default value of `keepdims` will become False, the `axis` over which the statistic is taken will be eliminated, and the value None will no longer be accepted. Set `keepdims` to True or False to avoid this warning.\n",
      "  mode, _ = stats.mode(_y[neigh_ind, k], axis=1)\n",
      "F:\\Anaconda\\lib\\site-packages\\sklearn\\neighbors\\_classification.py:228: FutureWarning: Unlike other reduction functions (e.g. `skew`, `kurtosis`), the default behavior of `mode` typically preserves the axis it acts along. In SciPy 1.11.0, this behavior will change: the default value of `keepdims` will become False, the `axis` over which the statistic is taken will be eliminated, and the value None will no longer be accepted. Set `keepdims` to True or False to avoid this warning.\n",
      "  mode, _ = stats.mode(_y[neigh_ind, k], axis=1)\n",
      "F:\\Anaconda\\lib\\site-packages\\sklearn\\neighbors\\_classification.py:228: FutureWarning: Unlike other reduction functions (e.g. `skew`, `kurtosis`), the default behavior of `mode` typically preserves the axis it acts along. In SciPy 1.11.0, this behavior will change: the default value of `keepdims` will become False, the `axis` over which the statistic is taken will be eliminated, and the value None will no longer be accepted. Set `keepdims` to True or False to avoid this warning.\n",
      "  mode, _ = stats.mode(_y[neigh_ind, k], axis=1)\n",
      "F:\\Anaconda\\lib\\site-packages\\sklearn\\neighbors\\_classification.py:228: FutureWarning: Unlike other reduction functions (e.g. `skew`, `kurtosis`), the default behavior of `mode` typically preserves the axis it acts along. In SciPy 1.11.0, this behavior will change: the default value of `keepdims` will become False, the `axis` over which the statistic is taken will be eliminated, and the value None will no longer be accepted. Set `keepdims` to True or False to avoid this warning.\n",
      "  mode, _ = stats.mode(_y[neigh_ind, k], axis=1)\n",
      "F:\\Anaconda\\lib\\site-packages\\sklearn\\neighbors\\_classification.py:228: FutureWarning: Unlike other reduction functions (e.g. `skew`, `kurtosis`), the default behavior of `mode` typically preserves the axis it acts along. In SciPy 1.11.0, this behavior will change: the default value of `keepdims` will become False, the `axis` over which the statistic is taken will be eliminated, and the value None will no longer be accepted. Set `keepdims` to True or False to avoid this warning.\n",
      "  mode, _ = stats.mode(_y[neigh_ind, k], axis=1)\n",
      "F:\\Anaconda\\lib\\site-packages\\sklearn\\neighbors\\_classification.py:228: FutureWarning: Unlike other reduction functions (e.g. `skew`, `kurtosis`), the default behavior of `mode` typically preserves the axis it acts along. In SciPy 1.11.0, this behavior will change: the default value of `keepdims` will become False, the `axis` over which the statistic is taken will be eliminated, and the value None will no longer be accepted. Set `keepdims` to True or False to avoid this warning.\n",
      "  mode, _ = stats.mode(_y[neigh_ind, k], axis=1)\n",
      "F:\\Anaconda\\lib\\site-packages\\sklearn\\neighbors\\_classification.py:228: FutureWarning: Unlike other reduction functions (e.g. `skew`, `kurtosis`), the default behavior of `mode` typically preserves the axis it acts along. In SciPy 1.11.0, this behavior will change: the default value of `keepdims` will become False, the `axis` over which the statistic is taken will be eliminated, and the value None will no longer be accepted. Set `keepdims` to True or False to avoid this warning.\n",
      "  mode, _ = stats.mode(_y[neigh_ind, k], axis=1)\n",
      "F:\\Anaconda\\lib\\site-packages\\sklearn\\neighbors\\_classification.py:228: FutureWarning: Unlike other reduction functions (e.g. `skew`, `kurtosis`), the default behavior of `mode` typically preserves the axis it acts along. In SciPy 1.11.0, this behavior will change: the default value of `keepdims` will become False, the `axis` over which the statistic is taken will be eliminated, and the value None will no longer be accepted. Set `keepdims` to True or False to avoid this warning.\n",
      "  mode, _ = stats.mode(_y[neigh_ind, k], axis=1)\n",
      "F:\\Anaconda\\lib\\site-packages\\sklearn\\neighbors\\_classification.py:228: FutureWarning: Unlike other reduction functions (e.g. `skew`, `kurtosis`), the default behavior of `mode` typically preserves the axis it acts along. In SciPy 1.11.0, this behavior will change: the default value of `keepdims` will become False, the `axis` over which the statistic is taken will be eliminated, and the value None will no longer be accepted. Set `keepdims` to True or False to avoid this warning.\n",
      "  mode, _ = stats.mode(_y[neigh_ind, k], axis=1)\n",
      "F:\\Anaconda\\lib\\site-packages\\sklearn\\neighbors\\_classification.py:228: FutureWarning: Unlike other reduction functions (e.g. `skew`, `kurtosis`), the default behavior of `mode` typically preserves the axis it acts along. In SciPy 1.11.0, this behavior will change: the default value of `keepdims` will become False, the `axis` over which the statistic is taken will be eliminated, and the value None will no longer be accepted. Set `keepdims` to True or False to avoid this warning.\n",
      "  mode, _ = stats.mode(_y[neigh_ind, k], axis=1)\n",
      "F:\\Anaconda\\lib\\site-packages\\sklearn\\neighbors\\_classification.py:228: FutureWarning: Unlike other reduction functions (e.g. `skew`, `kurtosis`), the default behavior of `mode` typically preserves the axis it acts along. In SciPy 1.11.0, this behavior will change: the default value of `keepdims` will become False, the `axis` over which the statistic is taken will be eliminated, and the value None will no longer be accepted. Set `keepdims` to True or False to avoid this warning.\n",
      "  mode, _ = stats.mode(_y[neigh_ind, k], axis=1)\n",
      "F:\\Anaconda\\lib\\site-packages\\sklearn\\neighbors\\_classification.py:228: FutureWarning: Unlike other reduction functions (e.g. `skew`, `kurtosis`), the default behavior of `mode` typically preserves the axis it acts along. In SciPy 1.11.0, this behavior will change: the default value of `keepdims` will become False, the `axis` over which the statistic is taken will be eliminated, and the value None will no longer be accepted. Set `keepdims` to True or False to avoid this warning.\n",
      "  mode, _ = stats.mode(_y[neigh_ind, k], axis=1)\n"
     ]
    },
    {
     "name": "stdout",
     "output_type": "stream",
     "text": [
      "Cross Validation accuracy scores: [0.50877193 0.54385965 0.50877193 0.56140351 0.47368421 0.52631579\n",
      " 0.52631579 0.49122807 0.50877193 0.49122807 0.52631579 0.47368421\n",
      " 0.56140351 0.57894737 0.54385965 0.52631579 0.54385965 0.54385965\n",
      " 0.56140351 0.47368421 0.49122807 0.49122807 0.54385965 0.50877193\n",
      " 0.52631579 0.47368421 0.56140351 0.52631579 0.56140351 0.49122807\n",
      " 0.51785714 0.64285714 0.66071429 0.5        0.55357143 0.53571429\n",
      " 0.51785714 0.5        0.53571429 0.53571429]\n",
      "Cross Validation accuracy: 0.529 +/- 0.040\n",
      "Maximum score : 0.6607142857142857\n"
     ]
    },
    {
     "name": "stderr",
     "output_type": "stream",
     "text": [
      "F:\\Anaconda\\lib\\site-packages\\sklearn\\neighbors\\_classification.py:228: FutureWarning: Unlike other reduction functions (e.g. `skew`, `kurtosis`), the default behavior of `mode` typically preserves the axis it acts along. In SciPy 1.11.0, this behavior will change: the default value of `keepdims` will become False, the `axis` over which the statistic is taken will be eliminated, and the value None will no longer be accepted. Set `keepdims` to True or False to avoid this warning.\n",
      "  mode, _ = stats.mode(_y[neigh_ind, k], axis=1)\n",
      "F:\\Anaconda\\lib\\site-packages\\sklearn\\neighbors\\_classification.py:228: FutureWarning: Unlike other reduction functions (e.g. `skew`, `kurtosis`), the default behavior of `mode` typically preserves the axis it acts along. In SciPy 1.11.0, this behavior will change: the default value of `keepdims` will become False, the `axis` over which the statistic is taken will be eliminated, and the value None will no longer be accepted. Set `keepdims` to True or False to avoid this warning.\n",
      "  mode, _ = stats.mode(_y[neigh_ind, k], axis=1)\n",
      "F:\\Anaconda\\lib\\site-packages\\sklearn\\neighbors\\_classification.py:228: FutureWarning: Unlike other reduction functions (e.g. `skew`, `kurtosis`), the default behavior of `mode` typically preserves the axis it acts along. In SciPy 1.11.0, this behavior will change: the default value of `keepdims` will become False, the `axis` over which the statistic is taken will be eliminated, and the value None will no longer be accepted. Set `keepdims` to True or False to avoid this warning.\n",
      "  mode, _ = stats.mode(_y[neigh_ind, k], axis=1)\n",
      "F:\\Anaconda\\lib\\site-packages\\sklearn\\neighbors\\_classification.py:228: FutureWarning: Unlike other reduction functions (e.g. `skew`, `kurtosis`), the default behavior of `mode` typically preserves the axis it acts along. In SciPy 1.11.0, this behavior will change: the default value of `keepdims` will become False, the `axis` over which the statistic is taken will be eliminated, and the value None will no longer be accepted. Set `keepdims` to True or False to avoid this warning.\n",
      "  mode, _ = stats.mode(_y[neigh_ind, k], axis=1)\n",
      "F:\\Anaconda\\lib\\site-packages\\sklearn\\neighbors\\_classification.py:228: FutureWarning: Unlike other reduction functions (e.g. `skew`, `kurtosis`), the default behavior of `mode` typically preserves the axis it acts along. In SciPy 1.11.0, this behavior will change: the default value of `keepdims` will become False, the `axis` over which the statistic is taken will be eliminated, and the value None will no longer be accepted. Set `keepdims` to True or False to avoid this warning.\n",
      "  mode, _ = stats.mode(_y[neigh_ind, k], axis=1)\n",
      "F:\\Anaconda\\lib\\site-packages\\sklearn\\neighbors\\_classification.py:228: FutureWarning: Unlike other reduction functions (e.g. `skew`, `kurtosis`), the default behavior of `mode` typically preserves the axis it acts along. In SciPy 1.11.0, this behavior will change: the default value of `keepdims` will become False, the `axis` over which the statistic is taken will be eliminated, and the value None will no longer be accepted. Set `keepdims` to True or False to avoid this warning.\n",
      "  mode, _ = stats.mode(_y[neigh_ind, k], axis=1)\n",
      "F:\\Anaconda\\lib\\site-packages\\sklearn\\neighbors\\_classification.py:228: FutureWarning: Unlike other reduction functions (e.g. `skew`, `kurtosis`), the default behavior of `mode` typically preserves the axis it acts along. In SciPy 1.11.0, this behavior will change: the default value of `keepdims` will become False, the `axis` over which the statistic is taken will be eliminated, and the value None will no longer be accepted. Set `keepdims` to True or False to avoid this warning.\n",
      "  mode, _ = stats.mode(_y[neigh_ind, k], axis=1)\n",
      "F:\\Anaconda\\lib\\site-packages\\sklearn\\neighbors\\_classification.py:228: FutureWarning: Unlike other reduction functions (e.g. `skew`, `kurtosis`), the default behavior of `mode` typically preserves the axis it acts along. In SciPy 1.11.0, this behavior will change: the default value of `keepdims` will become False, the `axis` over which the statistic is taken will be eliminated, and the value None will no longer be accepted. Set `keepdims` to True or False to avoid this warning.\n",
      "  mode, _ = stats.mode(_y[neigh_ind, k], axis=1)\n",
      "F:\\Anaconda\\lib\\site-packages\\sklearn\\neighbors\\_classification.py:228: FutureWarning: Unlike other reduction functions (e.g. `skew`, `kurtosis`), the default behavior of `mode` typically preserves the axis it acts along. In SciPy 1.11.0, this behavior will change: the default value of `keepdims` will become False, the `axis` over which the statistic is taken will be eliminated, and the value None will no longer be accepted. Set `keepdims` to True or False to avoid this warning.\n",
      "  mode, _ = stats.mode(_y[neigh_ind, k], axis=1)\n",
      "F:\\Anaconda\\lib\\site-packages\\sklearn\\neighbors\\_classification.py:228: FutureWarning: Unlike other reduction functions (e.g. `skew`, `kurtosis`), the default behavior of `mode` typically preserves the axis it acts along. In SciPy 1.11.0, this behavior will change: the default value of `keepdims` will become False, the `axis` over which the statistic is taken will be eliminated, and the value None will no longer be accepted. Set `keepdims` to True or False to avoid this warning.\n",
      "  mode, _ = stats.mode(_y[neigh_ind, k], axis=1)\n"
     ]
    }
   ],
   "source": [
    "Model(KNeighborsClassifier)  "
   ]
  },
  {
   "cell_type": "code",
   "execution_count": 38,
   "id": "052617b0",
   "metadata": {},
   "outputs": [
    {
     "name": "stdout",
     "output_type": "stream",
     "text": [
      "Cross Validation accuracy scores: [0.63157895 0.52631579 0.45614035 0.59649123 0.68421053 0.52631579\n",
      " 0.52631579 0.66666667 0.54385965 0.63157895 0.64912281 0.56140351\n",
      " 0.64912281 0.56140351 0.59649123 0.59649123 0.59649123 0.75438596\n",
      " 0.56140351 0.70175439 0.54385965 0.61403509 0.66666667 0.54385965\n",
      " 0.59649123 0.59649123 0.56140351 0.64912281 0.59649123 0.52631579\n",
      " 0.5        0.64285714 0.625      0.73214286 0.51785714 0.67857143\n",
      " 0.44642857 0.55357143 0.58928571 0.53571429]\n",
      "Cross Validation accuracy: 0.593 +/- 0.069\n",
      "Maximum score : 0.7543859649122807\n"
     ]
    }
   ],
   "source": [
    "Model(DecisionTreeClassifier)"
   ]
  },
  {
   "cell_type": "code",
   "execution_count": 84,
   "id": "561947a2",
   "metadata": {},
   "outputs": [
    {
     "data": {
      "text/plain": [
       "[[0.7258064516129032,\n",
       "  0.7377049180327869,\n",
       "  0.7317073170731708,\n",
       "  0.8596491228070176],\n",
       " [0.7397660818713451,\n",
       "  0.8295081967213115,\n",
       "  0.7820710973724885,\n",
       "  0.8596491228070176],\n",
       " [0.7491166077738516,\n",
       "  0.6950819672131148,\n",
       "  0.7210884353741497,\n",
       "  0.8421052631578947],\n",
       " [0.7034883720930233,\n",
       "  0.7934426229508197,\n",
       "  0.7457627118644068,\n",
       "  0.8245614035087719],\n",
       " [0.7167235494880546,\n",
       "  0.6885245901639344,\n",
       "  0.7023411371237458,\n",
       "  0.8245614035087719]]"
      ]
     },
     "execution_count": 84,
     "metadata": {},
     "output_type": "execute_result"
    }
   ],
   "source": [
    "data = [Model(LogisticRegression),Model(BernoulliNB),Model(SVC),Model(RandomForestClassifier),Model(AdaBoostClassifier)]\n",
    "data"
   ]
  },
  {
   "cell_type": "code",
   "execution_count": 88,
   "id": "a940090e",
   "metadata": {},
   "outputs": [],
   "source": [
    "data = np.array(data)\n",
    "data = data.reshape(5,4)"
   ]
  },
  {
   "cell_type": "code",
   "execution_count": 89,
   "id": "464afdde",
   "metadata": {},
   "outputs": [
    {
     "data": {
      "text/plain": [
       "array([[0.72580645, 0.73770492, 0.73170732, 0.85964912],\n",
       "       [0.73976608, 0.8295082 , 0.7820711 , 0.85964912],\n",
       "       [0.74911661, 0.69508197, 0.72108844, 0.84210526],\n",
       "       [0.70348837, 0.79344262, 0.74576271, 0.8245614 ],\n",
       "       [0.71672355, 0.68852459, 0.70234114, 0.8245614 ]])"
      ]
     },
     "execution_count": 89,
     "metadata": {},
     "output_type": "execute_result"
    }
   ],
   "source": [
    "data"
   ]
  },
  {
   "cell_type": "code",
   "execution_count": 92,
   "id": "0060c0e7",
   "metadata": {},
   "outputs": [
    {
     "data": {
      "text/html": [
       "<div>\n",
       "<style scoped>\n",
       "    .dataframe tbody tr th:only-of-type {\n",
       "        vertical-align: middle;\n",
       "    }\n",
       "\n",
       "    .dataframe tbody tr th {\n",
       "        vertical-align: top;\n",
       "    }\n",
       "\n",
       "    .dataframe thead th {\n",
       "        text-align: right;\n",
       "    }\n",
       "</style>\n",
       "<table border=\"1\" class=\"dataframe\">\n",
       "  <thead>\n",
       "    <tr style=\"text-align: right;\">\n",
       "      <th></th>\n",
       "      <th>Precision</th>\n",
       "      <th>Recall</th>\n",
       "      <th>f1_score</th>\n",
       "      <th>Accuracy</th>\n",
       "    </tr>\n",
       "  </thead>\n",
       "  <tbody>\n",
       "    <tr>\n",
       "      <th>Logistic Rgression</th>\n",
       "      <td>0.725806</td>\n",
       "      <td>0.737705</td>\n",
       "      <td>0.731707</td>\n",
       "      <td>0.859649</td>\n",
       "    </tr>\n",
       "    <tr>\n",
       "      <th>BernouliNB</th>\n",
       "      <td>0.739766</td>\n",
       "      <td>0.829508</td>\n",
       "      <td>0.782071</td>\n",
       "      <td>0.859649</td>\n",
       "    </tr>\n",
       "    <tr>\n",
       "      <th>Support Vector Machine</th>\n",
       "      <td>0.749117</td>\n",
       "      <td>0.695082</td>\n",
       "      <td>0.721088</td>\n",
       "      <td>0.842105</td>\n",
       "    </tr>\n",
       "    <tr>\n",
       "      <th>Random Forest</th>\n",
       "      <td>0.703488</td>\n",
       "      <td>0.793443</td>\n",
       "      <td>0.745763</td>\n",
       "      <td>0.824561</td>\n",
       "    </tr>\n",
       "    <tr>\n",
       "      <th>ADABOOST Classifier</th>\n",
       "      <td>0.716724</td>\n",
       "      <td>0.688525</td>\n",
       "      <td>0.702341</td>\n",
       "      <td>0.824561</td>\n",
       "    </tr>\n",
       "  </tbody>\n",
       "</table>\n",
       "</div>"
      ],
      "text/plain": [
       "                        Precision    Recall  f1_score  Accuracy\n",
       "Logistic Rgression       0.725806  0.737705  0.731707  0.859649\n",
       "BernouliNB               0.739766  0.829508  0.782071  0.859649\n",
       "Support Vector Machine   0.749117  0.695082  0.721088  0.842105\n",
       "Random Forest            0.703488  0.793443  0.745763  0.824561\n",
       "ADABOOST Classifier      0.716724  0.688525  0.702341  0.824561"
      ]
     },
     "execution_count": 92,
     "metadata": {},
     "output_type": "execute_result"
    }
   ],
   "source": [
    "result = pd.DataFrame(data=data,columns=['Precision','Recall','f1_score','Accuracy'],index=['Logistic Rgression','BernouliNB','Support Vector Machine','Random Forest','ADABOOST Classifier'])\n",
    "result"
   ]
  },
  {
   "cell_type": "code",
   "execution_count": 39,
   "id": "c1411045",
   "metadata": {},
   "outputs": [],
   "source": [
    "y_pred= model.predict(xtest)  \n",
    "x_pred= model.predict(xtrain) "
   ]
  },
  {
   "cell_type": "markdown",
   "id": "79999052",
   "metadata": {},
   "source": [
    "<img src='https://www.askpython.com/wp-content/uploads/2020/12/Confusion-Matrix.jpg.webp'>"
   ]
  },
  {
   "cell_type": "code",
   "execution_count": 40,
   "id": "d4800a9b",
   "metadata": {},
   "outputs": [
    {
     "data": {
      "image/png": "[encoded data removed]",
      "text/plain": [
       "<Figure size 640x480 with 2 Axes>"
      ]
     },
     "metadata": {},
     "output_type": "display_data"
    }
   ],
   "source": [
    "from sklearn.metrics import confusion_matrix,ConfusionMatrixDisplay\n",
    "a = confusion_matrix(ytest, y_pred)\n",
    "disp = ConfusionMatrixDisplay(confusion_matrix=a,display_labels=['Stress','No Stress'])\n",
    "disp.plot()\n",
    "plt.show()"
   ]
  },
  {
   "cell_type": "code",
   "execution_count": 41,
   "id": "740256eb",
   "metadata": {},
   "outputs": [
    {
     "data": {
      "text/plain": [
       "0.6615969581749049"
      ]
     },
     "execution_count": 41,
     "metadata": {},
     "output_type": "execute_result"
    }
   ],
   "source": [
    "#Precision = TP/(TP + FP)\n",
    "precision = 174/(174+89)\n",
    "precision"
   ]
  },
  {
   "cell_type": "markdown",
   "id": "a5e686b2",
   "metadata": {},
   "source": [
    "This ratio mean that among all the classifications that are been classified as positive (No Stress) how many are actually positive."
   ]
  },
  {
   "cell_type": "code",
   "execution_count": 42,
   "id": "c2138dec",
   "metadata": {},
   "outputs": [
    {
     "data": {
      "text/plain": [
       "0.7699115044247787"
      ]
     },
     "execution_count": 42,
     "metadata": {},
     "output_type": "execute_result"
    }
   ],
   "source": [
    "#Recall = TP/(TP + FN)\n",
    "recall = 174/(174+52)\n",
    "recall"
   ]
  },
  {
   "cell_type": "markdown",
   "id": "602d5d8e",
   "metadata": {},
   "source": [
    "we say that among all the classifications that were actually stress, how many of them did we predict as stress."
   ]
  },
  {
   "cell_type": "markdown",
   "id": "9f951348",
   "metadata": {},
   "source": [
    "<img src='https://www.askpython.com/wp-content/uploads/2020/12/F1-Score.png.webp'>"
   ]
  },
  {
   "cell_type": "code",
   "execution_count": 43,
   "id": "0d28b90f",
   "metadata": {},
   "outputs": [
    {
     "data": {
      "text/plain": [
       "0.7116564417177914"
      ]
     },
     "execution_count": 43,
     "metadata": {},
     "output_type": "execute_result"
    }
   ],
   "source": [
    "f1_score = 2*((precision*recall)/(precision+recall))\n",
    "f1_score"
   ]
  },
  {
   "cell_type": "code",
   "execution_count": 44,
   "id": "8aa4346b",
   "metadata": {},
   "outputs": [
    {
     "name": "stdout",
     "output_type": "stream",
     "text": [
      "Precision:  0.7397660818713451\n",
      "Recall:  0.8295081967213115\n"
     ]
    },
    {
     "name": "stderr",
     "output_type": "stream",
     "text": [
      "F:\\Anaconda\\lib\\site-packages\\sklearn\\utils\\deprecation.py:87: FutureWarning: Function plot_precision_recall_curve is deprecated; Function `plot_precision_recall_curve` is deprecated in 1.0 and will be removed in 1.2. Use one of the class methods: PrecisionRecallDisplay.from_predictions or PrecisionRecallDisplay.from_estimator.\n",
      "  warnings.warn(msg, category=FutureWarning)\n"
     ]
    },
    {
     "data": {
      "image/png": "[encoded data removed]",
      "text/plain": [
       "<Figure size 640x480 with 1 Axes>"
      ]
     },
     "metadata": {},
     "output_type": "display_data"
    }
   ],
   "source": [
    "import pandas as pd\n",
    "from sklearn.metrics import precision_recall_curve\n",
    "from sklearn.metrics import plot_precision_recall_curve\n",
    "from sklearn.metrics import precision_score\n",
    "from sklearn.metrics import recall_score\n",
    "import matplotlib.pyplot as plt\n",
    "  \n",
    "precision = precision_score(ytest, y_pred,pos_label=\"Stress\")\n",
    "recall = recall_score(ytest, y_pred,pos_label=\"Stress\")\n",
    " \n",
    "print('Precision: ',precision)\n",
    "print('Recall: ',recall)\n",
    " \n",
    "disp = plot_precision_recall_curve(model, xtest, ytest,name='Precision-Recall for test data')"
   ]
  },
  {
   "cell_type": "markdown",
   "id": "a4e44108",
   "metadata": {},
   "source": [
    "### From the graph it is clear that Average Precision (AP) = 0.83"
   ]
  },
  {
   "cell_type": "code",
   "execution_count": 45,
   "id": "6595a6fe",
   "metadata": {},
   "outputs": [
    {
     "data": {
      "text/plain": [
       "0.7820710973724885"
      ]
     },
     "execution_count": 45,
     "metadata": {},
     "output_type": "execute_result"
    }
   ],
   "source": [
    "f1_score = 2*((precision*recall)/(precision+recall))\n",
    "f1_score"
   ]
  },
  {
   "cell_type": "code",
   "execution_count": 46,
   "id": "e2798aae",
   "metadata": {},
   "outputs": [
    {
     "name": "stderr",
     "output_type": "stream",
     "text": [
      "F:\\Anaconda\\lib\\site-packages\\sklearn\\utils\\deprecation.py:87: FutureWarning: Function plot_precision_recall_curve is deprecated; Function `plot_precision_recall_curve` is deprecated in 1.0 and will be removed in 1.2. Use one of the class methods: PrecisionRecallDisplay.from_predictions or PrecisionRecallDisplay.from_estimator.\n",
      "  warnings.warn(msg, category=FutureWarning)\n"
     ]
    },
    {
     "data": {
      "image/png": "[encoded data removed]",
      "text/plain": [
       "<Figure size 640x480 with 1 Axes>"
      ]
     },
     "metadata": {},
     "output_type": "display_data"
    }
   ],
   "source": [
    "disp = plot_precision_recall_curve(model, xtrain, ytrain,name='Precision-Recall for train data')"
   ]
  },
  {
   "cell_type": "code",
   "execution_count": null,
   "id": "52baeb75",
   "metadata": {},
   "outputs": [],
   "source": []
  },
  {
   "cell_type": "code",
   "execution_count": null,
   "id": "0ff9efc8",
   "metadata": {},
   "outputs": [],
   "source": []
  },
  {
   "cell_type": "code",
   "execution_count": null,
   "id": "fcdf5dce",
   "metadata": {},
   "outputs": [],
   "source": []
  },
  {
   "cell_type": "code",
   "execution_count": null,
   "id": "753baaa4",
   "metadata": {},
   "outputs": [],
   "source": [
    "t = ytest.copy()\n",
    "t = pd.DataFrame(t)\n",
    "t[0] = t[0].map({\"No Stress\":0, \"Stress\":1})\n",
    "p = y_pred.copy()\n",
    "p = pd.DataFrame(p)\n",
    "p[0] = p[0].map({\"No Stress\":0, \"Stress\":1})\n",
    "p"
   ]
  },
  {
   "cell_type": "code",
   "execution_count": null,
   "id": "35c3e251",
   "metadata": {},
   "outputs": [],
   "source": [
    "from sklearn import metrics\n",
    "auc = metrics.roc_auc_score(t, p)\n",
    "auc"
   ]
  },
  {
   "cell_type": "code",
   "execution_count": null,
   "id": "817c7300",
   "metadata": {},
   "outputs": [],
   "source": [
    "fpr, tpr, _ = metrics.roc_curve(t,p)\n",
    "print(fpr)\n",
    "print(tpr)"
   ]
  },
  {
   "cell_type": "code",
   "execution_count": null,
   "id": "6b664907",
   "metadata": {},
   "outputs": [],
   "source": [
    "plt.plot([0, 1], [0, 1], linestyle='--', lw=2, color='r',label='Random', alpha=.8)\n",
    "plt.plot(fpr,tpr,label=\"AUC=\"+str(auc))\n",
    "plt.ylabel('True Positive Rate')\n",
    "plt.xlabel('False Positive Rate')\n",
    "plt.legend(loc=4)\n",
    "plt.show()"
   ]
  },
  {
   "cell_type": "code",
   "execution_count": null,
   "id": "e4d41dde",
   "metadata": {},
   "outputs": [],
   "source": [
    "print(model.score(xtrain, ytrain))"
   ]
  },
  {
   "cell_type": "code",
   "execution_count": null,
   "id": "4e4f97db",
   "metadata": {},
   "outputs": [],
   "source": [
    "print(model.score(xtest,ytest))"
   ]
  },
  {
   "cell_type": "code",
   "execution_count": null,
   "id": "9ba9604b",
   "metadata": {},
   "outputs": [],
   "source": [
    "user = input(\"Enter a Text: \")\n",
    "data = cv.transform([user]).toarray()\n",
    "output = model.predict(data)\n",
    "print(output)"
   ]
  },
  {
   "cell_type": "code",
   "execution_count": null,
   "id": "c21e3d95",
   "metadata": {},
   "outputs": [],
   "source": [
    "from sklearn.tree import DecisionTreeClassifier\n",
    "model = DecisionTreeClassifier()\n",
    "model.fit(xtrain, ytrain)"
   ]
  },
  {
   "cell_type": "code",
   "execution_count": null,
   "id": "536c3d79",
   "metadata": {},
   "outputs": [],
   "source": [
    "user = input(\"Enter a Text: \")\n",
    "data = cv.transform([user]).toarray()\n",
    "output = model.predict(data)\n",
    "print(output)"
   ]
  },
  {
   "cell_type": "code",
   "execution_count": null,
   "id": "6462657b",
   "metadata": {},
   "outputs": [],
   "source": [
    "model.score(xtest,ytest)*100"
   ]
  },
  {
   "cell_type": "code",
   "execution_count": null,
   "id": "6c5c4b15",
   "metadata": {},
   "outputs": [],
   "source": []
  },
  {
   "cell_type": "code",
   "execution_count": null,
   "id": "f55906fc",
   "metadata": {},
   "outputs": [],
   "source": [
    "from sklearn.ensemble import RandomForestClassifier\n",
    "model = RandomForestClassifier()\n",
    "model.fit(xtrain, ytrain)"
   ]
  },
  {
   "cell_type": "code",
   "execution_count": null,
   "id": "3f36df6a",
   "metadata": {},
   "outputs": [],
   "source": [
    "user = input(\"Enter a Text: \")\n",
    "data = cv.transform([user]).toarray()\n",
    "output = model.predict(data)\n",
    "print(output)"
   ]
  },
  {
   "cell_type": "code",
   "execution_count": null,
   "id": "2d775dda",
   "metadata": {},
   "outputs": [],
   "source": [
    "model.score(xtest,ytest)*100"
   ]
  },
  {
   "cell_type": "code",
   "execution_count": null,
   "id": "d34fcd2f",
   "metadata": {},
   "outputs": [],
   "source": [
    "# from above models it is clear that BernouliNB works better with accuracy 86%. Other models are overfitting."
   ]
  },
  {
   "cell_type": "code",
   "execution_count": null,
   "id": "29725b4a",
   "metadata": {},
   "outputs": [],
   "source": []
  }
 ],
 "metadata": {
  "kernelspec": {
   "display_name": "Python 3 (ipykernel)",
   "language": "python",
   "name": "python3"
  },
  "language_info": {
   "codemirror_mode": {
    "name": "ipython",
    "version": 3
   },
   "file_extension": ".py",
   "mimetype": "text/x-python",
   "name": "python",
   "nbconvert_exporter": "python",
   "pygments_lexer": "ipython3",
   "version": "3.9.13"
  }
 },
 "nbformat": 4,
 "nbformat_minor": 5
}
